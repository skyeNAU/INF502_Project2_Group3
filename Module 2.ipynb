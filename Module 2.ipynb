{
  "cells": [
    {
      "cell_type": "markdown",
      "source": [
        "## Import modules"
      ],
      "metadata": {
        "id": "sYg6EqkQlB2R"
      }
    },
    {
      "cell_type": "code",
      "execution_count": 76,
      "metadata": {
        "id": "VZA5iDmNfVeX"
      },
      "outputs": [],
      "source": [
        "#importing all the necessary packages\n",
        "import requests\n",
        "import csv\n",
        "import pandas as pd\n",
        "import matplotlib.pyplot as mp\n",
        "import seaborn as sb\n",
        "import numpy as np\n",
        "import json\n",
        "from datetime import datetime\n",
        "import requests\n",
        "from bs4 import BeautifulSoup\n",
        "import re"
      ]
    },
    {
      "cell_type": "markdown",
      "source": [
        "## Define a class for GitHub Repository"
      ],
      "metadata": {
        "id": "Ym6CLbS5fpcC"
      }
    },
    {
      "cell_type": "code",
      "source": [
        "# Define a class to represent a GitHub Repository\n",
        "class GitHubRepository:\n",
        "    def __init__(self, repo_name, owner, description, homepage, license, forks, watchers, date_of_collection):\n",
        "        self.repo_name = repo_name\n",
        "        self.owner = owner\n",
        "        self.description = description\n",
        "        self.homepage = homepage\n",
        "        self.license = license  # License could be another class with its own attributes\n",
        "        self.forks = forks\n",
        "        self.watchers = watchers\n",
        "        self.date_of_collection = date_of_collection\n",
        "\n",
        "    def __str__(self):\n",
        "        return f\"{self.owner}/{self.repo_name}: {self.description} ({self.watchers})\"\n"
      ],
      "metadata": {
        "id": "XnORtci1ooRc"
      },
      "execution_count": 36,
      "outputs": []
    },
    {
      "cell_type": "code",
      "source": [
        "url = 'https://api.github.com/repos/JabRef/jabref'\n",
        "\n",
        "#http request to the URL and collecting it reponse\n",
        "response = requests.get(url)\n",
        "\n",
        "#the reponse data is converted json\n",
        "data=response.json()\n",
        "\n",
        "#print(json.dumps(data, indent=4))\n",
        "\n",
        "repo_data = {\n",
        "    \"repo_name\": data['name'],\n",
        "    \"owner\": data['owner']['login'],\n",
        "    \"description\": data['description'],\n",
        "    \"homepage\": data['homepage'],\n",
        "    \"license\": data['license'],\n",
        "    \"forks\": data['forks'],\n",
        "    \"watchers\": data['watchers'],\n",
        "    \"date_of_collection\": datetime.now().timestamp()\n",
        "}\n",
        "\n",
        "my_repo = GitHubRepository(**repo_data)\n",
        "\n",
        "# Access attributes of the repository object\n",
        "#print(my_repo.forks)\n",
        "#print(my_repo.license)\n",
        "print(my_repo)"
      ],
      "metadata": {
        "colab": {
          "base_uri": "https://localhost:8080/"
        },
        "id": "tdrK-WIOvSqb",
        "outputId": "8f5c94a0-02e7-4a36-847c-5d1bfdbd54b8"
      },
      "execution_count": 39,
      "outputs": [
        {
          "output_type": "stream",
          "name": "stdout",
          "text": [
            "JabRef/jabref: Graphical Java application for managing BibTeX and biblatex (.bib) databases (3195)\n"
          ]
        }
      ]
    },
    {
      "cell_type": "markdown",
      "source": [
        "## Define a class for PullRequests"
      ],
      "metadata": {
        "id": "QJIGh3A7fwFq"
      }
    },
    {
      "cell_type": "code",
      "source": [
        "# Define a class to represent a GitHub Repository\n",
        "class PullRequest:\n",
        "    def __init__(self, title, number, body, state, date_of_creation, closing_date, user):\n",
        "        self.title = title\n",
        "        self.number = number\n",
        "        self.body = body\n",
        "        self.state = state\n",
        "        self.license = license  # License could be another class with its own attributes\n",
        "        self.date_of_creation = date_of_creation\n",
        "        self.closing_date = closing_date\n",
        "        self.user = user\n",
        "\n",
        "    def __str__(self):\n",
        "        return f\"{self.number}: {self.title})\"\n"
      ],
      "metadata": {
        "id": "LG9NulvKf5nJ"
      },
      "execution_count": 4,
      "outputs": []
    },
    {
      "cell_type": "code",
      "execution_count": 9,
      "metadata": {
        "colab": {
          "base_uri": "https://localhost:8080/"
        },
        "id": "qW7Btqm4hDbz",
        "outputId": "ab0309d3-1110-45c0-ba2e-dd1f91b91faa"
      },
      "outputs": [
        {
          "output_type": "stream",
          "name": "stdout",
          "text": [
            "10642: [Bot] Update CSL styles)\n"
          ]
        }
      ],
      "source": [
        "#saving jabref api in URl variable\n",
        "url='https://api.github.com/search/issues?q=is:pr+repo:jabref/jabref'\n",
        "\n",
        "#http request to the URL and collecting it reponse\n",
        "response = requests.get(url)\n",
        "\n",
        "#the reponse data is converted json\n",
        "data=response.json()\n",
        "\n",
        "#collecting title , pull request ,body , state, date of creation , closing date , user details of the repositories in respo.csv file\n",
        "pullrequest_list = []\n",
        "for i in data['items']: #collecting all responses from items key\n",
        "    pr = PullRequest(i['title'],i['number'],i['body'],i['state'],i['created_at'],i['closed_at'],i['user']['login'])\n",
        "    pullrequest_list.append(pr)\n",
        "\n",
        "print(pullrequest_list[1])"
      ]
    },
    {
      "cell_type": "markdown",
      "source": [
        "## From list of Pull Requests, get username and number of pull requests"
      ],
      "metadata": {
        "id": "NR6Q6jymjo2_"
      }
    },
    {
      "cell_type": "code",
      "source": [
        "# Function to extract user and pull request count\n",
        "def extract_user_pull_request_count(pull_requests):\n",
        "    user_pull_request_count = {}\n",
        "\n",
        "    for pr in pull_requests:\n",
        "        user = pr.user\n",
        "        if user in user_pull_request_count:\n",
        "            user_pull_request_count[user] += 1\n",
        "        else:\n",
        "            user_pull_request_count[user] = 1\n",
        "\n",
        "    return user_pull_request_count\n",
        "\n",
        "pullrequest_count = extract_user_pull_request_count(pullrequest_list)\n",
        "print(pullrequest_count)"
      ],
      "metadata": {
        "id": "J3ez2FIekthK",
        "outputId": "5b49ac08-a1b3-4e3c-99a0-08d406150e58",
        "colab": {
          "base_uri": "https://localhost:8080/"
        }
      },
      "execution_count": 15,
      "outputs": [
        {
          "output_type": "stream",
          "name": "stdout",
          "text": [
            "{'koppor': 7, 'dependabot[bot]': 12, 'JawadTUE': 1, 'Siedlerchr': 2, 'ThiloteE': 1, 'LenkaBuebnkova': 1, 'k3KAW8Pnf7mkmdSMPHz27': 2, 'JamesZhang11': 1, 'u7500248': 1, 'michalfarago': 1, 'lisongxuan': 1}\n"
          ]
        }
      ]
    },
    {
      "cell_type": "markdown",
      "source": [
        "## Scrape data from the user profile page on GitHub"
      ],
      "metadata": {
        "id": "zXdutnKDkObQ"
      }
    },
    {
      "cell_type": "code",
      "source": [
        "result = requests.get('https://github.com/koppor')\n",
        "content = result.content\n",
        "soup = BeautifulSoup(content, \"html.parser\")\n",
        "\n",
        "#print(soup.prettify())\n",
        "\n",
        "username = 'koppor'\n",
        "\n",
        "# Extract the required information\n",
        "repositories_count_element = soup.find('span', {'class': 'Counter'})\n",
        "repositories_count = repositories_count_element.text.strip() if repositories_count_element else 'N/A'\n",
        "\n",
        "followers_following = soup.find_all('span', {'class':\"text-bold color-fg-default\"})#.text.strip()\n",
        "followers_count = followers_following[0].text.strip()\n",
        "following_count = followers_following[1].text.strip()\n",
        "\n",
        "contributions = soup.find('h2', {'class':\"f4 text-normal mb-2\"}).text.strip()\n",
        "contributions= re.split(\"\\s\", contributions)[0]\n",
        "\n",
        "# Print the results\n",
        "print(f\"Repositories: {repositories_count}\")\n",
        "print(f\"Followers: {followers_count}\")\n",
        "print(f\"Following: {following_count}\")\n",
        "print(f\"Contributions: {contributions}\")\n"
      ],
      "metadata": {
        "outputId": "bcbaa40c-1fed-4ea6-8cb9-572f24147161",
        "colab": {
          "base_uri": "https://localhost:8080/"
        },
        "id": "6FOQPC3Enxsu"
      },
      "execution_count": 80,
      "outputs": [
        {
          "output_type": "stream",
          "name": "stdout",
          "text": [
            "Repositories: 309\n",
            "Followers: 283\n",
            "Following: 497\n",
            "Contributions: 2,189\n"
          ]
        }
      ]
    },
    {
      "cell_type": "code",
      "source": [],
      "metadata": {
        "id": "5qA7CFPHFLGw"
      },
      "execution_count": null,
      "outputs": []
    },
    {
      "cell_type": "code",
      "source": [],
      "metadata": {
        "id": "Yo-S_f3fkt7f"
      },
      "execution_count": null,
      "outputs": []
    },
    {
      "cell_type": "code",
      "execution_count": 11,
      "metadata": {
        "colab": {
          "base_uri": "https://localhost:8080/"
        },
        "id": "Uf2kS0CDfVea",
        "outputId": "74413589-a63c-48bf-e732-2ffc79fee846"
      },
      "outputs": [
        {
          "output_type": "stream",
          "name": "stdout",
          "text": [
            "                                                title  number  \\\n",
            "0             [Bot] Update journal abbreviation lists   10645   \n",
            "1                             [Bot] Update CSL styles   10642   \n",
            "2                    Use clparse (instead of heylogs)   10641   \n",
            "3   Bump org.mockito:mockito-core from 5.6.0 to 5.7.0   10638   \n",
            "4   Bump org.fxmisc.richtext:richtextfx from 0.11....   10637   \n",
            "5   Bump com.tngtech.archunit:archunit-junit5-engi...   10636   \n",
            "6   Bump org.junit.platform:junit-platform-launche...   10635   \n",
            "7   Bump io.github.classgraph:classgraph from 4.8....   10634   \n",
            "8         Added parent field to Hayagriva YAML export   10633   \n",
            "9                          Adapt tests to new heylogs   10631   \n",
            "10                        Fix NPE in lookup identifer   10630   \n",
            "11           Add minimum requirements to CHANGELOG.md   10628   \n",
            "12                             Update to JavaFX 21.01   10627   \n",
            "13         Bump org.jsoup:jsoup from 1.16.1 to 1.16.2   10625   \n",
            "14  Bump org.junit.jupiter:junit-jupiter from 5.10...   10624   \n",
            "15  Bump org.fxmisc.flowless:flowless from 0.7.1 t...   10623   \n",
            "16  Bump com.dlsc.gemsfx:gemsfx from 1.84.0 to 1.90.0   10622   \n",
            "17  Bump com.tngtech.archunit:archunit-junit5-api ...   10621   \n",
            "18                         Issue 10431 relevance star   10620   \n",
            "19      Prevent the EventBus from triggering searches   10619   \n",
            "20  issue was closed, no need for any changes, ple...   10618   \n",
            "21                           Add support for scite.ai   10617   \n",
            "22                                     change codecov   10616   \n",
            "23                                      Change linter   10614   \n",
            "24                          Fix failing fetcher tests   10613   \n",
            "25              Check if value is already a Short DOI   10612   \n",
            "26  replace \"SearchAll\" in web search by \"Search S...   10611   \n",
            "27       Do not show user-specific comment as default   10610   \n",
            "28           Bump me.champeau.jmh from 0.7.1 to 0.7.2   10609   \n",
            "29           Bump org.beryx.jlink from 3.0.0 to 3.0.1   10608   \n",
            "\n",
            "                                                 body   state  \\\n",
            "0   Automated changes by [create-pull-request](htt...  closed   \n",
            "1   Automated changes by [create-pull-request](htt...  closed   \n",
            "2   This implements https://github.com/NiclasvanEy...  closed   \n",
            "3   Bumps [org.mockito:mockito-core](https://githu...  closed   \n",
            "4   Bumps [org.fxmisc.richtext:richtextfx](https:/...  closed   \n",
            "5   Bumps [com.tngtech.archunit:archunit-junit5-en...  closed   \n",
            "6   Bumps [org.junit.platform:junit-platform-launc...  closed   \n",
            "7   Bumps [io.github.classgraph:classgraph](https:...  closed   \n",
            "8   <!-- \\r\\nDescribe the changes you have made he...  closed   \n",
            "9   Due to https://github.com/nbbrd/heylogs/issues...  closed   \n",
            "10  Fixes #10629\\r\\n\\r\\nNo changelog needed as thi...  closed   \n",
            "11  Follow up to https://github.com/JabRef/jabref/...  closed   \n",
            "12  update controlsfx\\r\\n\\r\\nFixes https://github....  closed   \n",
            "13  Bumps [org.jsoup:jsoup](https://github.com/jhy...  closed   \n",
            "14  Bumps [org.junit.jupiter:junit-jupiter](https:...  closed   \n",
            "15  Bumps [org.fxmisc.flowless:flowless](https://g...  closed   \n",
            "16  Bumps [com.dlsc.gemsfx:gemsfx](https://github....  closed   \n",
            "17  Bumps [com.tngtech.archunit:archunit-junit5-ap...  closed   \n",
            "18  <!-- \\r\\nDescribe the changes you have made he...    open   \n",
            "19  <!-- \\r\\nDescribe the changes you have made he...  closed   \n",
            "20  <!-- \\r\\nPlease ignore this PR and deny it, si...  closed   \n",
            "21  Closes https://github.com/koppor/jabref/issues...  closed   \n",
            "22  Update codecov following newest developments. ...  closed   \n",
            "23  This changes the markdown external ink checker...  closed   \n",
            "24  <!-- \\r\\nDescribe the changes you have made he...  closed   \n",
            "25  Closes #10589 \\r\\n\\r\\n### Mandatory checks\\r\\n...  closed   \n",
            "26  Closes https://github.com/JabRef/jabref/issues...  closed   \n",
            "27  Fixes https://github.com/JabRef/jabref/issues/...    open   \n",
            "28  Bumps me.champeau.jmh from 0.7.1 to 0.7.2.\\n\\n...  closed   \n",
            "29  Bumps org.beryx.jlink from 3.0.0 to 3.0.1.\\n\\n...  closed   \n",
            "\n",
            "        date of creation          closing date                   user  \n",
            "0   2023-11-16T02:15:13Z  2023-11-16T02:45:24Z                 koppor  \n",
            "1   2023-11-15T02:15:46Z  2023-11-15T02:43:06Z                 koppor  \n",
            "2   2023-11-14T23:38:03Z  2023-11-15T22:19:59Z                 koppor  \n",
            "3   2023-11-13T14:40:52Z  2023-11-13T15:18:32Z        dependabot[bot]  \n",
            "4   2023-11-13T14:40:20Z  2023-11-13T15:58:50Z        dependabot[bot]  \n",
            "5   2023-11-13T14:40:09Z  2023-11-13T15:05:21Z        dependabot[bot]  \n",
            "6   2023-11-13T14:40:01Z  2023-11-13T15:33:04Z        dependabot[bot]  \n",
            "7   2023-11-13T14:39:44Z  2023-11-13T15:43:29Z        dependabot[bot]  \n",
            "8   2023-11-12T21:51:13Z  2023-11-14T10:23:47Z               JawadTUE  \n",
            "9   2023-11-10T00:08:28Z  2023-11-10T00:09:37Z                 koppor  \n",
            "10  2023-11-09T21:47:06Z  2023-11-10T05:36:42Z             Siedlerchr  \n",
            "11  2023-11-08T20:27:29Z  2023-11-09T19:08:43Z               ThiloteE  \n",
            "12  2023-11-07T16:12:12Z  2023-11-07T16:37:57Z             Siedlerchr  \n",
            "13  2023-11-06T14:55:39Z  2023-11-06T15:17:35Z        dependabot[bot]  \n",
            "14  2023-11-06T14:55:34Z  2023-11-06T18:41:46Z        dependabot[bot]  \n",
            "15  2023-11-06T14:55:18Z  2023-11-06T18:42:23Z        dependabot[bot]  \n",
            "16  2023-11-06T14:55:13Z  2023-11-06T18:42:41Z        dependabot[bot]  \n",
            "17  2023-11-06T14:55:07Z  2023-11-06T18:42:56Z        dependabot[bot]  \n",
            "18  2023-11-06T07:44:50Z                   NaN         LenkaBuebnkova  \n",
            "19  2023-11-03T20:15:33Z  2023-11-10T21:01:40Z  k3KAW8Pnf7mkmdSMPHz27  \n",
            "20  2023-11-03T05:02:04Z  2023-11-03T19:21:21Z           JamesZhang11  \n",
            "21  2023-11-03T01:31:25Z  2023-11-10T00:23:29Z               u7500248  \n",
            "22  2023-11-02T23:33:49Z  2023-11-04T16:49:23Z                 koppor  \n",
            "23  2023-11-02T14:51:39Z  2023-11-06T04:42:44Z                 koppor  \n",
            "24  2023-11-01T21:33:06Z  2023-11-01T22:59:16Z  k3KAW8Pnf7mkmdSMPHz27  \n",
            "25  2023-11-01T19:35:15Z  2023-11-02T17:27:34Z           michalfarago  \n",
            "26  2023-11-01T09:06:58Z  2023-11-09T22:18:01Z             lisongxuan  \n",
            "27  2023-10-31T01:11:31Z                   NaN                 koppor  \n",
            "28  2023-10-30T14:55:21Z  2023-10-30T15:51:57Z        dependabot[bot]  \n",
            "29  2023-10-30T14:55:12Z  2023-10-30T15:51:42Z        dependabot[bot]  \n"
          ]
        }
      ],
      "source": [
        "#saving jabref api in URl variable\n",
        "url='https://api.github.com/search/issues?q=is:pr+repo:jabref/jabref'\n",
        "\n",
        "#http request to the URL and collecting it reponse\n",
        "response = requests.get(url)\n",
        "\n",
        "#the reponse data is converted json\n",
        "data=response.json()\n",
        "\n",
        "#collecting title , pull request ,body , state, date of creation , closing date , user details of the repositories in respo.csv file\n",
        "with open('repos.csv', 'w', newline='',encoding=\"utf-8\") as file: #creating repos.csv file in write mode\n",
        "    writer = csv.writer(file)\n",
        "    writer.writerow([\"title\",\"number\",\"body\",\"state\",\"date of creation\",\"closing date\",\"user\"]) #creating column names\n",
        "    j=0\n",
        "    for i in data['items']: #collecting all responses from items key\n",
        "        title,number,body,state,created_at,closed_at,user=(i['title'],i['number'],i['body'],i['state'],i['created_at'],i['closed_at'],i['user']['login'])\n",
        "        writer.writerow([title,number,body,state,created_at,closed_at,user])\n",
        "        j=j+1\n",
        "\n",
        "#reading repos.cvs into pandas data frame\n",
        "repos_df=pd.read_csv('repos.csv')\n",
        "print(repos_df)"
      ]
    },
    {
      "cell_type": "code",
      "execution_count": 12,
      "metadata": {
        "colab": {
          "base_uri": "https://localhost:8080/"
        },
        "id": "XlSc1OZ3fVea",
        "outputId": "b49cc45e-b58f-4ccc-f448-a0755c40d5ab"
      },
      "outputs": [
        {
          "output_type": "stream",
          "name": "stdout",
          "text": [
            "                                                title  number  \\\n",
            "0             [Bot] Update journal abbreviation lists   10645   \n",
            "1                             [Bot] Update CSL styles   10642   \n",
            "2                    Use clparse (instead of heylogs)   10641   \n",
            "3   Bump org.mockito:mockito-core from 5.6.0 to 5.7.0   10638   \n",
            "4   Bump org.fxmisc.richtext:richtextfx from 0.11....   10637   \n",
            "5   Bump com.tngtech.archunit:archunit-junit5-engi...   10636   \n",
            "6   Bump org.junit.platform:junit-platform-launche...   10635   \n",
            "7   Bump io.github.classgraph:classgraph from 4.8....   10634   \n",
            "8         Added parent field to Hayagriva YAML export   10633   \n",
            "9                          Adapt tests to new heylogs   10631   \n",
            "10                        Fix NPE in lookup identifer   10630   \n",
            "11           Add minimum requirements to CHANGELOG.md   10628   \n",
            "12                             Update to JavaFX 21.01   10627   \n",
            "13         Bump org.jsoup:jsoup from 1.16.1 to 1.16.2   10625   \n",
            "14  Bump org.junit.jupiter:junit-jupiter from 5.10...   10624   \n",
            "15  Bump org.fxmisc.flowless:flowless from 0.7.1 t...   10623   \n",
            "16  Bump com.dlsc.gemsfx:gemsfx from 1.84.0 to 1.90.0   10622   \n",
            "17  Bump com.tngtech.archunit:archunit-junit5-api ...   10621   \n",
            "18                         Issue 10431 relevance star   10620   \n",
            "19      Prevent the EventBus from triggering searches   10619   \n",
            "20  issue was closed, no need for any changes, ple...   10618   \n",
            "21                           Add support for scite.ai   10617   \n",
            "22                                     change codecov   10616   \n",
            "23                                      Change linter   10614   \n",
            "24                          Fix failing fetcher tests   10613   \n",
            "25              Check if value is already a Short DOI   10612   \n",
            "26  replace \"SearchAll\" in web search by \"Search S...   10611   \n",
            "27       Do not show user-specific comment as default   10610   \n",
            "28           Bump me.champeau.jmh from 0.7.1 to 0.7.2   10609   \n",
            "29           Bump org.beryx.jlink from 3.0.0 to 3.0.1   10608   \n",
            "\n",
            "                                                 body   state  \\\n",
            "0   Automated changes by [create-pull-request](htt...  closed   \n",
            "1   Automated changes by [create-pull-request](htt...  closed   \n",
            "2   This implements https://github.com/NiclasvanEy...  closed   \n",
            "3   Bumps [org.mockito:mockito-core](https://githu...  closed   \n",
            "4   Bumps [org.fxmisc.richtext:richtextfx](https:/...  closed   \n",
            "5   Bumps [com.tngtech.archunit:archunit-junit5-en...  closed   \n",
            "6   Bumps [org.junit.platform:junit-platform-launc...  closed   \n",
            "7   Bumps [io.github.classgraph:classgraph](https:...  closed   \n",
            "8   <!-- \\r\\nDescribe the changes you have made he...  closed   \n",
            "9   Due to https://github.com/nbbrd/heylogs/issues...  closed   \n",
            "10  Fixes #10629\\r\\n\\r\\nNo changelog needed as thi...  closed   \n",
            "11  Follow up to https://github.com/JabRef/jabref/...  closed   \n",
            "12  update controlsfx\\r\\n\\r\\nFixes https://github....  closed   \n",
            "13  Bumps [org.jsoup:jsoup](https://github.com/jhy...  closed   \n",
            "14  Bumps [org.junit.jupiter:junit-jupiter](https:...  closed   \n",
            "15  Bumps [org.fxmisc.flowless:flowless](https://g...  closed   \n",
            "16  Bumps [com.dlsc.gemsfx:gemsfx](https://github....  closed   \n",
            "17  Bumps [com.tngtech.archunit:archunit-junit5-ap...  closed   \n",
            "18  <!-- \\r\\nDescribe the changes you have made he...    open   \n",
            "19  <!-- \\r\\nDescribe the changes you have made he...  closed   \n",
            "20  <!-- \\r\\nPlease ignore this PR and deny it, si...  closed   \n",
            "21  Closes https://github.com/koppor/jabref/issues...  closed   \n",
            "22  Update codecov following newest developments. ...  closed   \n",
            "23  This changes the markdown external ink checker...  closed   \n",
            "24  <!-- \\r\\nDescribe the changes you have made he...  closed   \n",
            "25  Closes #10589 \\r\\n\\r\\n### Mandatory checks\\r\\n...  closed   \n",
            "26  Closes https://github.com/JabRef/jabref/issues...  closed   \n",
            "27  Fixes https://github.com/JabRef/jabref/issues/...    open   \n",
            "28  Bumps me.champeau.jmh from 0.7.1 to 0.7.2.\\n\\n...  closed   \n",
            "29  Bumps org.beryx.jlink from 3.0.0 to 3.0.1.\\n\\n...  closed   \n",
            "\n",
            "        date of creation          closing date                   user  \n",
            "0   2023-11-16T02:15:13Z  2023-11-16T02:45:24Z                 koppor  \n",
            "1   2023-11-15T02:15:46Z  2023-11-15T02:43:06Z                 koppor  \n",
            "2   2023-11-14T23:38:03Z  2023-11-15T22:19:59Z                 koppor  \n",
            "3   2023-11-13T14:40:52Z  2023-11-13T15:18:32Z        dependabot[bot]  \n",
            "4   2023-11-13T14:40:20Z  2023-11-13T15:58:50Z        dependabot[bot]  \n",
            "5   2023-11-13T14:40:09Z  2023-11-13T15:05:21Z        dependabot[bot]  \n",
            "6   2023-11-13T14:40:01Z  2023-11-13T15:33:04Z        dependabot[bot]  \n",
            "7   2023-11-13T14:39:44Z  2023-11-13T15:43:29Z        dependabot[bot]  \n",
            "8   2023-11-12T21:51:13Z  2023-11-14T10:23:47Z               JawadTUE  \n",
            "9   2023-11-10T00:08:28Z  2023-11-10T00:09:37Z                 koppor  \n",
            "10  2023-11-09T21:47:06Z  2023-11-10T05:36:42Z             Siedlerchr  \n",
            "11  2023-11-08T20:27:29Z  2023-11-09T19:08:43Z               ThiloteE  \n",
            "12  2023-11-07T16:12:12Z  2023-11-07T16:37:57Z             Siedlerchr  \n",
            "13  2023-11-06T14:55:39Z  2023-11-06T15:17:35Z        dependabot[bot]  \n",
            "14  2023-11-06T14:55:34Z  2023-11-06T18:41:46Z        dependabot[bot]  \n",
            "15  2023-11-06T14:55:18Z  2023-11-06T18:42:23Z        dependabot[bot]  \n",
            "16  2023-11-06T14:55:13Z  2023-11-06T18:42:41Z        dependabot[bot]  \n",
            "17  2023-11-06T14:55:07Z  2023-11-06T18:42:56Z        dependabot[bot]  \n",
            "18  2023-11-06T07:44:50Z                   NaN         LenkaBuebnkova  \n",
            "19  2023-11-03T20:15:33Z  2023-11-10T21:01:40Z  k3KAW8Pnf7mkmdSMPHz27  \n",
            "20  2023-11-03T05:02:04Z  2023-11-03T19:21:21Z           JamesZhang11  \n",
            "21  2023-11-03T01:31:25Z  2023-11-10T00:23:29Z               u7500248  \n",
            "22  2023-11-02T23:33:49Z  2023-11-04T16:49:23Z                 koppor  \n",
            "23  2023-11-02T14:51:39Z  2023-11-06T04:42:44Z                 koppor  \n",
            "24  2023-11-01T21:33:06Z  2023-11-01T22:59:16Z  k3KAW8Pnf7mkmdSMPHz27  \n",
            "25  2023-11-01T19:35:15Z  2023-11-02T17:27:34Z           michalfarago  \n",
            "26  2023-11-01T09:06:58Z  2023-11-09T22:18:01Z             lisongxuan  \n",
            "27  2023-10-31T01:11:31Z                   NaN                 koppor  \n",
            "28  2023-10-30T14:55:21Z  2023-10-30T15:51:57Z        dependabot[bot]  \n",
            "29  2023-10-30T14:55:12Z  2023-10-30T15:51:42Z        dependabot[bot]  \n"
          ]
        }
      ],
      "source": [
        "#reading repos.cvs into pandas data frame\n",
        "repos_df=pd.read_csv('repos.csv')\n",
        "print(repos_df)"
      ]
    },
    {
      "cell_type": "code",
      "execution_count": 30,
      "metadata": {
        "colab": {
          "base_uri": "https://localhost:8080/"
        },
        "id": "1wxDtbDCfVea",
        "outputId": "78420b6c-35b4-4728-eee7-46496e2e3611"
      },
      "outputs": [
        {
          "output_type": "stream",
          "name": "stdout",
          "text": [
            "[10642, 10641, 10638, 10637, 10636, 10635, 10634, 10633, 10631, 10630, 10628, 10627, 10625, 10624, 10623, 10622, 10621, 10620, 10619, 10618, 10617, 10616, 10614, 10613, 10612, 10611, 10610, 10609, 10608, 10607]\n"
          ]
        }
      ],
      "source": [
        "#collecting number columns values into list\n",
        "num_list=repos_df['number'].tolist()\n",
        "print(num_list)"
      ]
    },
    {
      "cell_type": "code",
      "execution_count": 31,
      "metadata": {
        "id": "cDtk8z1FfVeb"
      },
      "outputs": [],
      "source": [
        "#collecting owner , repo , number of commits , additions , deletions , changed files details in repos/owner-repo.csv files\n",
        "for i in num_list:\n",
        "    url='https://api.github.com/repos/JabRef/jabref/pulls/'+str(i) #api call for each user based on number of Github pulls\n",
        "    response = requests.get(url) #http request to the URL and collecting it reponse\n",
        "    data=response.json() #the reponse data is converted json\n",
        "    owner=data['user']['login']\n",
        "    repo=data['head']['repo']['name']\n",
        "    commits=data['commits']\n",
        "    additions=data['additions']\n",
        "    deletions=data['deletions']\n",
        "    changed_files=data['changed_files']\n",
        "    file_name='repos'+owner+'-'+repo+'.csv'\n",
        "    csvfile = open(file_name, 'w')\n",
        "    rowWriter = csv.writer(csvfile, delimiter=',', quoting=csv.QUOTE_NONE)\n",
        "    rowWriter.writerow ([\"number of commits\",\"additions\",\"deletions\",\"changed_files\"]) #creating columns\n",
        "    rowWriter.writerow([commits,additions,deletions,changed_files]) #writing data into csv file\n",
        "    csvfile.close()"
      ]
    },
    {
      "cell_type": "code",
      "execution_count": 32,
      "metadata": {
        "id": "iakgQu7AfVeb"
      },
      "outputs": [],
      "source": [
        "#collecting number of follower , followings , repos of a user into users.cvs file\n",
        "l=list(set(repos_df['user']))\n",
        "with open('users.csv', 'w', newline='',encoding=\"utf-8\") as file:\n",
        "    writer = csv.writer(file)\n",
        "    writer.writerow([\"user\",\"number of repositories\",\"number of followers\",\"number of following\"])\n",
        "    for i in l:\n",
        "        repo_url='https://api.github.com/users/'+str(i)+'/repos'\n",
        "        followers_url='https://api.github.com/users/'+str(i)+'/followers'\n",
        "        following_url='https://api.github.com/users/'+str(i)+'/following'\n",
        "        response1= requests.get(repo_url) #http request to the URL and collecting it reponse\n",
        "        response2 = requests.get(followers_url)#http request to the URL and collecting it reponse\n",
        "        response3 = requests.get(following_url)#http request to the URL and collecting it reponse\n",
        "        data1=response1.json()#the reponse data is converted json\n",
        "        data2=response2.json()#the reponse data is converted json\n",
        "        data3=response3.json()#the reponse data is converted json\n",
        "        num_repos=len(data1)\n",
        "        num_followers=len(data2)\n",
        "        num_following=len(data3)\n",
        "        writer.writerow([i,num_repos,num_followers,num_following]) #saving the data into cvs file"
      ]
    },
    {
      "cell_type": "code",
      "execution_count": 39,
      "metadata": {
        "colab": {
          "base_uri": "https://localhost:8080/",
          "height": 294
        },
        "id": "4C7zV9hxfVeb",
        "outputId": "3a43f0df-53ad-4e7f-9083-b5b3b1c88705"
      },
      "outputs": [
        {
          "output_type": "stream",
          "name": "stdout",
          "text": [
            "[10642, 10641, 10638, 10637, 10636, 10635, 10634, 10633, 10631, 10630, 10628, 10627, 10625, 10624, 10623, 10622, 10621, 10620, 10619, 10618, 10617, 10616, 10614, 10613, 10612, 10611, 10610, 10609, 10608, 10607]\n"
          ]
        },
        {
          "output_type": "error",
          "ename": "KeyError",
          "evalue": "ignored",
          "traceback": [
            "\u001b[0;31m---------------------------------------------------------------------------\u001b[0m",
            "\u001b[0;31mKeyError\u001b[0m                                  Traceback (most recent call last)",
            "\u001b[0;32m<ipython-input-39-c68d7c477998>\u001b[0m in \u001b[0;36m<cell line: 4>\u001b[0;34m()\u001b[0m\n\u001b[1;32m      9\u001b[0m         \u001b[0mresponse\u001b[0m \u001b[0;34m=\u001b[0m \u001b[0mrequests\u001b[0m\u001b[0;34m.\u001b[0m\u001b[0mget\u001b[0m\u001b[0;34m(\u001b[0m\u001b[0murl\u001b[0m\u001b[0;34m)\u001b[0m\u001b[0;31m#http request to the URL and collecting it reponse\u001b[0m\u001b[0;34m\u001b[0m\u001b[0;34m\u001b[0m\u001b[0m\n\u001b[1;32m     10\u001b[0m         \u001b[0mdata\u001b[0m\u001b[0;34m=\u001b[0m\u001b[0mresponse\u001b[0m\u001b[0;34m.\u001b[0m\u001b[0mjson\u001b[0m\u001b[0;34m(\u001b[0m\u001b[0;34m)\u001b[0m\u001b[0;31m#the reponse data is converted json\u001b[0m\u001b[0;34m\u001b[0m\u001b[0;34m\u001b[0m\u001b[0m\n\u001b[0;32m---> 11\u001b[0;31m         \u001b[0mprint\u001b[0m\u001b[0;34m(\u001b[0m\u001b[0mdata\u001b[0m\u001b[0;34m[\u001b[0m\u001b[0;34m'user'\u001b[0m\u001b[0;34m]\u001b[0m\u001b[0;34m)\u001b[0m\u001b[0;34m\u001b[0m\u001b[0;34m\u001b[0m\u001b[0m\n\u001b[0m\u001b[1;32m     12\u001b[0m         \u001b[0mowner\u001b[0m\u001b[0;34m=\u001b[0m\u001b[0mdata\u001b[0m\u001b[0;34m[\u001b[0m\u001b[0;34m'user'\u001b[0m\u001b[0;34m]\u001b[0m\u001b[0;34m[\u001b[0m\u001b[0;34m'login'\u001b[0m\u001b[0;34m]\u001b[0m\u001b[0;34m\u001b[0m\u001b[0;34m\u001b[0m\u001b[0m\n\u001b[1;32m     13\u001b[0m         \u001b[0mrepo\u001b[0m\u001b[0;34m=\u001b[0m\u001b[0mdata\u001b[0m\u001b[0;34m[\u001b[0m\u001b[0;34m'head'\u001b[0m\u001b[0;34m]\u001b[0m\u001b[0;34m[\u001b[0m\u001b[0;34m'repo'\u001b[0m\u001b[0;34m]\u001b[0m\u001b[0;34m[\u001b[0m\u001b[0;34m'name'\u001b[0m\u001b[0;34m]\u001b[0m\u001b[0;34m\u001b[0m\u001b[0;34m\u001b[0m\u001b[0m\n",
            "\u001b[0;31mKeyError\u001b[0m: 'user'"
          ]
        }
      ],
      "source": [
        "num_list=repos_df['number'].tolist()\n",
        "print(num_list)\n",
        "#collecting owner , repo number of commits addition , deletions in all repos.cvs file\n",
        "with open('all_repos.csv', 'w', newline='',encoding=\"utf-8\") as file:\n",
        "    writer = csv.writer(file)\n",
        "    writer.writerow([\"user\",\"repo_name\",\"commits\",\"additions\",\"deletions\",\"changed_files\"])\n",
        "    for i in num_list:\n",
        "        url='https://api.github.com/repos/JabRef/jabref/pulls/'+str(i)\n",
        "        response = requests.get(url)#http request to the URL and collecting it reponse\n",
        "        data=response.json()#the reponse data is converted json\n",
        "        owner=data['user']['login']\n",
        "        repo=data['head']['repo']['name']\n",
        "        commits=data['commits']\n",
        "        additions=data['additions']\n",
        "        deletions=data['deletions']\n",
        "        changed_files=data['changed_files']\n",
        "        writer.writerow([owner,repo,commits,additions,deletions,changed_files]) #saving data in cvs file"
      ]
    },
    {
      "cell_type": "code",
      "execution_count": null,
      "metadata": {
        "id": "fALxntJjfVec"
      },
      "outputs": [],
      "source": [
        "users_df=pd.read_csv('users.csv') #collecting cvs data into pandas data file\n",
        "all_repos=pd.read_csv('all_repos1.csv') #collecting cvs data into pandas data file"
      ]
    },
    {
      "cell_type": "code",
      "execution_count": null,
      "metadata": {
        "scrolled": false,
        "id": "sBuHTjO-fVec"
      },
      "outputs": [],
      "source": [
        "all_repos['state']=np.where(all_repos['user']==repos_df['user'],repos_df['state'],'') #collecting state details in all repos data frame"
      ]
    },
    {
      "cell_type": "code",
      "execution_count": null,
      "metadata": {
        "id": "AvLoKubffVec"
      },
      "outputs": [],
      "source": [
        "#box plot that comapares closed vs open pulled requests in terms of number of commits\n",
        "sb.set_style(\"whitegrid\")\n",
        "\n",
        "\n",
        "\n",
        "\n",
        "\n",
        "\n",
        "\n",
        "\n",
        "\n",
        "\n",
        "\n",
        "sb.boxplot(x = 'state', y = 'commits', data = all_repos)"
      ]
    },
    {
      "cell_type": "code",
      "execution_count": null,
      "metadata": {
        "id": "XO0HYFF4fVec"
      },
      "outputs": [],
      "source": [
        "#box plot that comapares closed vs open pulled requests in terms of additions\n",
        "sb.set_style(\"whitegrid\")\n",
        "fig, ax = mp.subplots(figsize=(10, 6))\n",
        "sb.boxplot(x = 'additions', y = 'commits', data = all_repos,ax=ax)"
      ]
    },
    {
      "cell_type": "code",
      "execution_count": null,
      "metadata": {
        "id": "1Cbh-kNDfVec"
      },
      "outputs": [],
      "source": [
        "#box plot that comapares closed vs open pulled requests in terms of deletions\n",
        "sb.set_style(\"whitegrid\")\n",
        "fig, ax = mp.subplots(figsize=(10, 6))\n",
        "sb.boxplot(x = 'deletions', y = 'commits', data = all_repos,ax=ax)"
      ]
    },
    {
      "cell_type": "code",
      "execution_count": null,
      "metadata": {
        "id": "9be3-l2KfVec"
      },
      "outputs": [],
      "source": [
        "#box plot that comapares closed vs open pulled requests in terms of deletions\n",
        "sb.set_style(\"whitegrid\")\n",
        "fig, ax = mp.subplots(figsize=(10, 6))\n",
        "sb.boxplot(x = 'user', y = 'changed_files', data = all_repos,ax=ax)"
      ]
    },
    {
      "cell_type": "code",
      "execution_count": null,
      "metadata": {
        "id": "w1jWqWBjfVed"
      },
      "outputs": [],
      "source": [
        "#a scatterplot that showws the relationship between additions and deletions\n",
        "all_repos.plot.scatter(x='additions', y='deletions', title= \"Scatter plot between two variables X and Y\");\n",
        "\n",
        "mp.show(block=True);"
      ]
    },
    {
      "cell_type": "code",
      "execution_count": null,
      "metadata": {
        "id": "siz3leTkfVed"
      },
      "outputs": [],
      "source": [
        "#line graph showing the total number of pull requests per day\n",
        "repos_df.plot( 'date of creation' , 'number' )"
      ]
    },
    {
      "cell_type": "code",
      "execution_count": null,
      "metadata": {
        "id": "6zoSy-IXfVed"
      },
      "outputs": [],
      "source": [
        "#bars comparing the number of users per repo\n",
        "users_df.plot(x=\"number of repositories\", y=\"number of followers\", kind=\"bar\")"
      ]
    },
    {
      "cell_type": "code",
      "execution_count": null,
      "metadata": {
        "id": "i6a1b2JDfVed"
      },
      "outputs": [],
      "source": [
        "#corelation between all the numeric data in pull requests for a repo\n",
        "print(all_repos.corr())\n",
        "\n",
        "# plotting correlation heatmap\n",
        "dataplot = sb.heatmap(all_repos.corr(), cmap=\"YlGnBu\", annot=True)\n",
        "\n",
        "# displaying heatmap\n",
        "mp.show()"
      ]
    },
    {
      "cell_type": "code",
      "execution_count": null,
      "metadata": {
        "id": "Tcdi_ZWxfVed"
      },
      "outputs": [],
      "source": [
        "#corelation between all the numeric data in pull requests for a repo\n",
        "print(users_df.corr())\n",
        "\n",
        "# plotting correlation heatmap\n",
        "dataplot = sb.heatmap(users_df.corr(), cmap=\"YlGnBu\", annot=True)\n",
        "\n",
        "# displaying heatmap\n",
        "mp.show()"
      ]
    },
    {
      "cell_type": "code",
      "execution_count": null,
      "metadata": {
        "id": "BgRC8qWZfVed"
      },
      "outputs": [],
      "source": []
    }
  ],
  "metadata": {
    "kernelspec": {
      "display_name": "Python 3 (ipykernel)",
      "language": "python",
      "name": "python3"
    },
    "language_info": {
      "codemirror_mode": {
        "name": "ipython",
        "version": 3
      },
      "file_extension": ".py",
      "mimetype": "text/x-python",
      "name": "python",
      "nbconvert_exporter": "python",
      "pygments_lexer": "ipython3",
      "version": "3.9.13"
    },
    "colab": {
      "provenance": [],
      "toc_visible": true
    }
  },
  "nbformat": 4,
  "nbformat_minor": 0
}