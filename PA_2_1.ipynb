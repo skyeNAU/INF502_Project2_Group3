{
 "cells": [
  {
   "cell_type": "code",
   "execution_count": 2,
   "metadata": {},
   "outputs": [],
   "source": [
    "#importing all the necessary packages \n",
    "import requests  \n",
    "import csv\n",
    "import pandas as pd\n",
    "import matplotlib.pyplot as mp\n",
    "#import seaborn as sb\n",
    "import numpy as np"
   ]
  },
  {
   "cell_type": "code",
   "execution_count": 3,
   "metadata": {},
   "outputs": [],
   "source": [
    "#saving jabref api in URl variable \n",
    "url='https://api.github.com/search/issues?q=is:pr+repo:jabref/jabref'"
   ]
  },
  {
   "cell_type": "code",
   "execution_count": 4,
   "metadata": {},
   "outputs": [],
   "source": [
    "#http request to the URL and collecting it reponse \n",
    "response = requests.get(url)"
   ]
  },
  {
   "cell_type": "code",
   "execution_count": 5,
   "metadata": {},
   "outputs": [],
   "source": [
    "#the reponse data is converted json \n",
    "data=response.json()"
   ]
  },
  {
   "cell_type": "code",
   "execution_count": 6,
   "metadata": {},
   "outputs": [],
   "source": [
    "#collecting title , pull request ,body , state, date of creation , closing date , user details of the repositories in respo.csv file \n",
    "with open('repos.csv', 'w', newline='',encoding=\"utf-8\") as file: #creating repos.csv file in write mode\n",
    "    writer = csv.writer(file)\n",
    "    writer.writerow([\"title\",\"number\",\"body\",\"state\",\"date of creation\",\"closing date\",\"user\"]) #creating column names \n",
    "    j=0\n",
    "    for i in data['items']: #collecting all responses from items key\n",
    "        title,number,body,state,created_at,closed_at,user=(i['title'],i['number'],i['body'],i['state'],i['created_at'],i['closed_at'],i['user']['login'])\n",
    "        writer.writerow([title,number,body,state,created_at,closed_at,user])\n",
    "        j=j+1"
   ]
  },
  {
   "cell_type": "code",
   "execution_count": 7,
   "metadata": {},
   "outputs": [],
   "source": [
    "#reading repos.cvs into pandas data frame \n",
    "repos_df=pd.read_csv('repos.csv')"
   ]
  },
  {
   "cell_type": "code",
   "execution_count": 8,
   "metadata": {},
   "outputs": [],
   "source": [
    "#collecting number columns values into list \n",
    "num_list=repos_df['number'].tolist()"
   ]
  },
  {
   "cell_type": "code",
   "execution_count": 9,
   "metadata": {},
   "outputs": [],
   "source": [
    "#collecting owner , repo , number of commits , additions , deletions , changed files details in repos/owner-repo.csv files \n",
    "for i in num_list:\n",
    "    url='https://api.github.com/repos/JabRef/jabref/pulls/'+str(i) #api call for each user based on number of Github pulls \n",
    "    response = requests.get(url) #http request to the URL and collecting it reponse\n",
    "    data=response.json() #the reponse data is converted json\n",
    "    owner=data['user']['login']\n",
    "    repo=data['head']['repo']['name']\n",
    "    commits=data['commits']\n",
    "    additions=data['additions']\n",
    "    deletions=data['deletions']\n",
    "    changed_files=data['changed_files']\n",
    "    file_name='repos'+owner+'-'+repo+'.csv'\n",
    "    csvfile = open(file_name, 'w')\n",
    "    rowWriter = csv.writer(csvfile, delimiter=',', quoting=csv.QUOTE_NONE) \n",
    "    rowWriter.writerow ([\"number of commits\",\"additions\",\"deletions\",\"changed_files\"]) #creating columns\n",
    "    rowWriter.writerow([commits,additions,deletions,changed_files]) #writing data into csv file \n",
    "    csvfile.close()"
   ]
  },
  {
   "cell_type": "code",
   "execution_count": 10,
   "metadata": {},
   "outputs": [],
   "source": [
    "#collecting number of follower , followings , repos of a user into users.cvs file \n",
    "l=list(set(repos_df['user'])) \n",
    "with open('users.csv', 'w', newline='',encoding=\"utf-8\") as file:\n",
    "    writer = csv.writer(file)\n",
    "    writer.writerow([\"user\",\"number of repositories\",\"number of followers\",\"number of following\"])\n",
    "    for i in l:\n",
    "        repo_url='https://api.github.com/users/'+str(i)+'/repos'\n",
    "        followers_url='https://api.github.com/users/'+str(i)+'/followers'\n",
    "        following_url='https://api.github.com/users/'+str(i)+'/following'\n",
    "        response1= requests.get(repo_url) #http request to the URL and collecting it reponse\n",
    "        response2 = requests.get(followers_url)#http request to the URL and collecting it reponse\n",
    "        response3 = requests.get(following_url)#http request to the URL and collecting it reponse\n",
    "        data1=response1.json()#the reponse data is converted json\n",
    "        data2=response2.json()#the reponse data is converted json\n",
    "        data3=response3.json()#the reponse data is converted json\n",
    "        num_repos=len(data1)\n",
    "        num_followers=len(data2)\n",
    "        num_following=len(data3)\n",
    "        writer.writerow([i,num_repos,num_followers,num_following]) #saving the data into cvs file "
   ]
  },
  {
   "cell_type": "code",
   "execution_count": 11,
   "metadata": {},
   "outputs": [
    {
     "ename": "KeyError",
     "evalue": "'user'",
     "output_type": "error",
     "traceback": [
      "\u001b[1;31m---------------------------------------------------------------------------\u001b[0m",
      "\u001b[1;31mKeyError\u001b[0m                                  Traceback (most recent call last)",
      "\u001b[1;32m<ipython-input-11-27356d13e2a4>\u001b[0m in \u001b[0;36m<module>\u001b[1;34m\u001b[0m\n\u001b[0;32m      7\u001b[0m         \u001b[0mresponse\u001b[0m \u001b[1;33m=\u001b[0m \u001b[0mrequests\u001b[0m\u001b[1;33m.\u001b[0m\u001b[0mget\u001b[0m\u001b[1;33m(\u001b[0m\u001b[0murl\u001b[0m\u001b[1;33m)\u001b[0m\u001b[1;31m#http request to the URL and collecting it reponse\u001b[0m\u001b[1;33m\u001b[0m\u001b[1;33m\u001b[0m\u001b[0m\n\u001b[0;32m      8\u001b[0m         \u001b[0mdata\u001b[0m\u001b[1;33m=\u001b[0m\u001b[0mresponse\u001b[0m\u001b[1;33m.\u001b[0m\u001b[0mjson\u001b[0m\u001b[1;33m(\u001b[0m\u001b[1;33m)\u001b[0m\u001b[1;31m#the reponse data is converted json\u001b[0m\u001b[1;33m\u001b[0m\u001b[1;33m\u001b[0m\u001b[0m\n\u001b[1;32m----> 9\u001b[1;33m         \u001b[0mowner\u001b[0m\u001b[1;33m=\u001b[0m\u001b[0mdata\u001b[0m\u001b[1;33m[\u001b[0m\u001b[1;34m'user'\u001b[0m\u001b[1;33m]\u001b[0m\u001b[1;33m[\u001b[0m\u001b[1;34m'login'\u001b[0m\u001b[1;33m]\u001b[0m\u001b[1;33m\u001b[0m\u001b[1;33m\u001b[0m\u001b[0m\n\u001b[0m\u001b[0;32m     10\u001b[0m         \u001b[0mrepo\u001b[0m\u001b[1;33m=\u001b[0m\u001b[0mdata\u001b[0m\u001b[1;33m[\u001b[0m\u001b[1;34m'head'\u001b[0m\u001b[1;33m]\u001b[0m\u001b[1;33m[\u001b[0m\u001b[1;34m'repo'\u001b[0m\u001b[1;33m]\u001b[0m\u001b[1;33m[\u001b[0m\u001b[1;34m'name'\u001b[0m\u001b[1;33m]\u001b[0m\u001b[1;33m\u001b[0m\u001b[1;33m\u001b[0m\u001b[0m\n\u001b[0;32m     11\u001b[0m         \u001b[0mcommits\u001b[0m\u001b[1;33m=\u001b[0m\u001b[0mdata\u001b[0m\u001b[1;33m[\u001b[0m\u001b[1;34m'commits'\u001b[0m\u001b[1;33m]\u001b[0m\u001b[1;33m\u001b[0m\u001b[1;33m\u001b[0m\u001b[0m\n",
      "\u001b[1;31mKeyError\u001b[0m: 'user'"
     ]
    }
   ],
   "source": [
    "#collecting owner , repo number of commits addition , deletions in all repos.cvs file \n",
    "with open('all_repos.csv', 'w', newline='',encoding=\"utf-8\") as file:\n",
    "    writer = csv.writer(file)\n",
    "    writer.writerow([\"user\",\"repo_name\",\"commits\",\"additions\",\"deletions\",\"changed_files\"])\n",
    "    for i in num_list:\n",
    "        url='https://api.github.com/repos/JabRef/jabref/pulls/'+str(i)\n",
    "        response = requests.get(url)#http request to the URL and collecting it reponse\n",
    "        data=response.json()#the reponse data is converted json\n",
    "        owner=data['user']['login']\n",
    "        repo=data['head']['repo']['name']\n",
    "        commits=data['commits']\n",
    "        additions=data['additions']\n",
    "        deletions=data['deletions']\n",
    "        changed_files=data['changed_files']\n",
    "        writer.writerow([owner,repo,commits,additions,deletions,changed_files]) #saving data in cvs file "
   ]
  },
  {
   "cell_type": "code",
   "execution_count": null,
   "metadata": {},
   "outputs": [],
   "source": [
    "users_df=pd.read_csv('users.csv') #collecting cvs data into pandas data file\n",
    "all_repos=pd.read_csv('all_repos1.csv') #collecting cvs data into pandas data file"
   ]
  },
  {
   "cell_type": "code",
   "execution_count": null,
   "metadata": {
    "scrolled": false
   },
   "outputs": [],
   "source": [
    "all_repos['state']=np.where(all_repos['user']==repos_df['user'],repos_df['state'],'') #collecting state details in all repos data frame "
   ]
  },
  {
   "cell_type": "code",
   "execution_count": null,
   "metadata": {},
   "outputs": [],
   "source": [
    "#box plot that comapares closed vs open pulled requests in terms of number of commits\n",
    "sb.set_style(\"whitegrid\")\n",
    "  \n",
    "    \n",
    "    \n",
    "    \n",
    "    \n",
    "    \n",
    "    \n",
    "    \n",
    "    \n",
    "    \n",
    "    \n",
    "sb.boxplot(x = 'state', y = 'commits', data = all_repos)"
   ]
  },
  {
   "cell_type": "code",
   "execution_count": null,
   "metadata": {},
   "outputs": [],
   "source": [
    "#box plot that comapares closed vs open pulled requests in terms of additions\n",
    "sb.set_style(\"whitegrid\")\n",
    "fig, ax = mp.subplots(figsize=(10, 6))\n",
    "sb.boxplot(x = 'additions', y = 'commits', data = all_repos,ax=ax)"
   ]
  },
  {
   "cell_type": "code",
   "execution_count": null,
   "metadata": {},
   "outputs": [],
   "source": [
    "#box plot that comapares closed vs open pulled requests in terms of deletions\n",
    "sb.set_style(\"whitegrid\")\n",
    "fig, ax = mp.subplots(figsize=(10, 6))\n",
    "sb.boxplot(x = 'deletions', y = 'commits', data = all_repos,ax=ax)"
   ]
  },
  {
   "cell_type": "code",
   "execution_count": null,
   "metadata": {},
   "outputs": [],
   "source": [
    "#box plot that comapares closed vs open pulled requests in terms of deletions\n",
    "sb.set_style(\"whitegrid\")\n",
    "fig, ax = mp.subplots(figsize=(10, 6))\n",
    "sb.boxplot(x = 'user', y = 'changed_files', data = all_repos,ax=ax)"
   ]
  },
  {
   "cell_type": "code",
   "execution_count": null,
   "metadata": {},
   "outputs": [],
   "source": [
    "#a scatterplot that showws the relationship between additions and deletions\n",
    "all_repos.plot.scatter(x='additions', y='deletions', title= \"Scatter plot between two variables X and Y\");\n",
    "\n",
    "mp.show(block=True);"
   ]
  },
  {
   "cell_type": "code",
   "execution_count": null,
   "metadata": {},
   "outputs": [],
   "source": [
    "#line graph showing the total number of pull requests per day\n",
    "repos_df.plot( 'date of creation' , 'number' )"
   ]
  },
  {
   "cell_type": "code",
   "execution_count": null,
   "metadata": {},
   "outputs": [],
   "source": [
    "#bars comparing the number of users per repo\n",
    "users_df.plot(x=\"number of repositories\", y=\"number of followers\", kind=\"bar\")"
   ]
  },
  {
   "cell_type": "code",
   "execution_count": null,
   "metadata": {},
   "outputs": [],
   "source": [
    "#corelation between all the numeric data in pull requests for a repo\n",
    "print(all_repos.corr())\n",
    "  \n",
    "# plotting correlation heatmap\n",
    "dataplot = sb.heatmap(all_repos.corr(), cmap=\"YlGnBu\", annot=True)\n",
    "  \n",
    "# displaying heatmap\n",
    "mp.show()"
   ]
  },
  {
   "cell_type": "code",
   "execution_count": null,
   "metadata": {},
   "outputs": [],
   "source": [
    "#corelation between all the numeric data in pull requests for a repo\n",
    "print(users_df.corr())\n",
    "  \n",
    "# plotting correlation heatmap\n",
    "dataplot = sb.heatmap(users_df.corr(), cmap=\"YlGnBu\", annot=True)\n",
    "  \n",
    "# displaying heatmap\n",
    "mp.show()"
   ]
  },
  {
   "cell_type": "code",
   "execution_count": null,
   "metadata": {},
   "outputs": [],
   "source": []
  }
 ],
 "metadata": {
  "kernelspec": {
   "display_name": "Python 3",
   "language": "python",
   "name": "python3"
  },
  "language_info": {
   "codemirror_mode": {
    "name": "ipython",
    "version": 3
   },
   "file_extension": ".py",
   "mimetype": "text/x-python",
   "name": "python",
   "nbconvert_exporter": "python",
   "pygments_lexer": "ipython3",
   "version": "3.9.11"
  }
 },
 "nbformat": 4,
 "nbformat_minor": 4
}
