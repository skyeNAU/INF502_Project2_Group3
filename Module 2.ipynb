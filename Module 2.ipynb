{
  "cells": [
    {
      "cell_type": "markdown",
      "metadata": {
        "id": "view-in-github",
        "colab_type": "text"
      },
      "source": [
        "<a href=\"https://colab.research.google.com/github/skyeNAU/INF502_Project2_Group3/blob/main/Module%202.ipynb\" target=\"_parent\"><img src=\"https://colab.research.google.com/assets/colab-badge.svg\" alt=\"Open In Colab\"/></a>"
      ]
    },
    {
      "cell_type": "markdown",
      "source": [
        "## Import modules"
      ],
      "metadata": {
        "id": "sYg6EqkQlB2R"
      }
    },
    {
      "cell_type": "code",
      "execution_count": 3,
      "metadata": {
        "id": "VZA5iDmNfVeX"
      },
      "outputs": [],
      "source": [
        "#importing all the necessary packages\n",
        "import requests\n",
        "import csv\n",
        "import pandas as pd\n",
        "import matplotlib.pyplot as mp\n",
        "import seaborn as sb\n",
        "import numpy as np\n",
        "import json\n",
        "from datetime import datetime\n",
        "import requests\n",
        "from bs4 import BeautifulSoup\n",
        "import re"
      ]
    },
    {
      "cell_type": "markdown",
      "source": [
        "## Define a class for GitHub Repository"
      ],
      "metadata": {
        "id": "Ym6CLbS5fpcC"
      }
    },
    {
      "cell_type": "code",
      "source": [
        "# Define a class to represent a GitHub Repository\n",
        "class GitHubRepository:\n",
        "    def __init__(self, repo_name, owner, description, homepage, license, forks, watchers, date_of_collection):\n",
        "        self.repo_name = repo_name\n",
        "        self.owner = owner\n",
        "        self.description = description\n",
        "        self.homepage = homepage\n",
        "        self.license = license  # License could be another class with its own attributes\n",
        "        self.forks = forks\n",
        "        self.watchers = watchers\n",
        "        self.date_of_collection = date_of_collection\n",
        "\n",
        "    def __str__(self):\n",
        "        return f\"{self.owner}/{self.repo_name}: {self.description} ({self.watchers})\"\n",
        "\n",
        "    def to_dict(self):\n",
        "        return {\n",
        "            \"repo_name\": self.repo_name,\n",
        "            \"owner\": self.owner,\n",
        "            \"description\": self.description,\n",
        "            \"homepage\": self.homepage,\n",
        "            \"license\": self.license,\n",
        "            \"forks\": self.forks,\n",
        "            \"watchers\": self.watchers,\n",
        "            \"date_of_collection\": self.date_of_collection\n",
        "        }\n",
        "\n",
        "    def save_to_csv(self, file_path):\n",
        "        with open(file_path, mode='w', newline='') as file:\n",
        "            writer = csv.DictWriter(file, fieldnames=self.to_dict().keys())\n",
        "            writer.writeheader()\n",
        "            writer.writerow(self.to_dict())\n"
      ],
      "metadata": {
        "id": "XnORtci1ooRc"
      },
      "execution_count": 4,
      "outputs": []
    },
    {
      "cell_type": "code",
      "source": [
        "url = 'https://api.github.com/repos/JabRef/jabref'\n",
        "\n",
        "#http request to the URL and collecting it reponse\n",
        "response = requests.get(url)\n",
        "\n",
        "#the reponse data is converted json\n",
        "data=response.json()\n",
        "\n",
        "#print(json.dumps(data, indent=4))\n",
        "\n",
        "repo_data = {\n",
        "    \"repo_name\": data['name'],\n",
        "    \"owner\": data['owner']['login'],\n",
        "    \"description\": data['description'],\n",
        "    \"homepage\": data['homepage'],\n",
        "    \"license\": data['license'],\n",
        "    \"forks\": data['forks'],\n",
        "    \"watchers\": data['watchers'],\n",
        "    \"date_of_collection\": datetime.now().timestamp()\n",
        "}\n",
        "\n",
        "my_repo = GitHubRepository(**repo_data)\n",
        "\n",
        "# Access attributes of the repository object\n",
        "#print(my_repo.forks)\n",
        "#print(my_repo.license)\n",
        "print(my_repo)"
      ],
      "metadata": {
        "colab": {
          "base_uri": "https://localhost:8080/"
        },
        "id": "tdrK-WIOvSqb",
        "outputId": "25a5f6df-ee11-4c2f-cf77-702ab6f479d0"
      },
      "execution_count": 5,
      "outputs": [
        {
          "output_type": "stream",
          "name": "stdout",
          "text": [
            "JabRef/jabref: Graphical Java application for managing BibTeX and biblatex (.bib) databases (3199)\n"
          ]
        }
      ]
    },
    {
      "cell_type": "markdown",
      "source": [
        "## Define a class for PullRequests"
      ],
      "metadata": {
        "id": "QJIGh3A7fwFq"
      }
    },
    {
      "cell_type": "code",
      "source": [
        "# Define a class to represent Pull Requests from a GitHub Repository\n",
        "class PullRequest:\n",
        "    def __init__(self, title, number, body, state, date_of_creation, closing_date, user):\n",
        "        self.title = title\n",
        "        self.number = number\n",
        "        self.body = body\n",
        "        self.state = state\n",
        "        self.license = license  # License could be another class with its own attributes\n",
        "        self.date_of_creation = date_of_creation\n",
        "        self.closing_date = closing_date\n",
        "        self.user = user\n",
        "\n",
        "    def __str__(self):\n",
        "        return f\"{self.number}: {self.title})\"\n",
        "\n",
        "    def to_dict(self):\n",
        "        return {\n",
        "            \"title\": self.title,\n",
        "            \"number\": self.number,\n",
        "            \"body\": self.body,\n",
        "            \"state\": self.state,\n",
        "            \"date_of_creation\": self.date_of_creation,\n",
        "            \"closing_date\": self.closing_date,\n",
        "            \"user\": self.user\n",
        "        }\n",
        "\n",
        "    def save_to_csv(self, file_path):\n",
        "        with open(file_path, mode='w', newline='') as file:\n",
        "            writer = csv.DictWriter(file, fieldnames=self.to_dict().keys())\n",
        "            writer.writeheader()\n",
        "            for pr in pullrequest_list:\n",
        "                writer.writerow(pr.to_dict())\n"
      ],
      "metadata": {
        "id": "LG9NulvKf5nJ"
      },
      "execution_count": 6,
      "outputs": []
    },
    {
      "cell_type": "code",
      "execution_count": 7,
      "metadata": {
        "id": "qW7Btqm4hDbz",
        "colab": {
          "base_uri": "https://localhost:8080/"
        },
        "outputId": "f1c91647-3078-4746-8564-5f6fda294628"
      },
      "outputs": [
        {
          "output_type": "stream",
          "name": "stdout",
          "text": [
            "10659: Add 'More' option to right click menu in the main table #9432)\n"
          ]
        }
      ],
      "source": [
        "#saving jabref api in URl variable\n",
        "url='https://api.github.com/search/issues?q=is:pr+repo:jabref/jabref'\n",
        "\n",
        "#http request to the URL and collecting it reponse\n",
        "response = requests.get(url)\n",
        "\n",
        "#the reponse data is converted json\n",
        "data=response.json()\n",
        "\n",
        "#collecting title , pull request ,body , state, date of creation , closing date , user details of the repositories in respo.csv file\n",
        "pullrequest_list = []\n",
        "for i in data['items']: #collecting all responses from items key\n",
        "    pr = PullRequest(i['title'],i['number'],i['body'],i['state'],i['created_at'],i['closed_at'],i['user']['login'])\n",
        "    pullrequest_list.append(pr)\n",
        "\n",
        "print(pullrequest_list[1])"
      ]
    },
    {
      "cell_type": "markdown",
      "source": [
        "## Define a class for user data"
      ],
      "metadata": {
        "id": "USPP8QpSHgxV"
      }
    },
    {
      "cell_type": "code",
      "source": [
        "# Define a class to represent Users with PullRequests from the GitHub Repository\n",
        "class UserList:\n",
        "    def __init__(self, user, user_number_of_requests, user_repositories_count, user_follows, user_following, user_contributions):\n",
        "        self.user = user\n",
        "        self.user_number_of_requests = user_number_of_requests\n",
        "        self.user_repositories_count = user_repositories_count\n",
        "        self.user_follows = user_follows\n",
        "        self.user_following = user_following  # License could be another class with its own attributes\n",
        "        self.user_contributions = user_contributions\n",
        "\n",
        "    def __str__(self):\n",
        "        return f\"{self.user} / Number of requests: {self.user_number_of_requests} / Repo count: {self.user_repositories_count} / Followers: {self.user_follows} / Following: {self.user_following} / Contibutions: {self.user_contributions}\"\n",
        "\n",
        "    def to_dict(self):\n",
        "        return {\n",
        "            \"user\": self.user,\n",
        "            \"user_number_of_requests\": self.user_number_of_requests,\n",
        "            \"user_repositories_count\": self.user_repositories_count,\n",
        "            \"user_follows\": self.user_follows,\n",
        "            \"user_following\": self.user_following,\n",
        "            \"user_contributions\": self.user_contributions\n",
        "        }\n",
        "\n",
        "    def save_to_csv(self, file_path):\n",
        "        with open(file_path, mode='w', newline='') as file:\n",
        "            writer = csv.DictWriter(file, fieldnames=self.to_dict().keys())\n",
        "            writer.writeheader()\n",
        "            for user in userdata_list:\n",
        "                writer.writerow(user.to_dict())\n"
      ],
      "metadata": {
        "id": "lHyzipDTHhRI"
      },
      "execution_count": 8,
      "outputs": []
    },
    {
      "cell_type": "markdown",
      "source": [
        "## From list of Pull Requests, get username and number of pull requests"
      ],
      "metadata": {
        "id": "NR6Q6jymjo2_"
      }
    },
    {
      "cell_type": "code",
      "source": [
        "# Function to extract user and pull request count\n",
        "def extract_user_pull_request_count(pull_requests):\n",
        "    user_pull_request_count = {}\n",
        "\n",
        "    for pr in pull_requests:\n",
        "        user = pr.user\n",
        "        if user in user_pull_request_count:\n",
        "            user_pull_request_count[user] += 1\n",
        "        else:\n",
        "            user_pull_request_count[user] = 1\n",
        "\n",
        "    return user_pull_request_count\n",
        "\n",
        "pullrequest_count = extract_user_pull_request_count(pullrequest_list)"
      ],
      "metadata": {
        "id": "J3ez2FIekthK"
      },
      "execution_count": 9,
      "outputs": []
    },
    {
      "cell_type": "markdown",
      "source": [
        "## Scrape data from the user profile page on GitHub and populate UserList class"
      ],
      "metadata": {
        "id": "zXdutnKDkObQ"
      }
    },
    {
      "cell_type": "code",
      "source": [
        "user_list = list(pullrequest_count.keys())\n",
        "\n",
        "userdata_list = []\n",
        "for username in user_list:\n",
        "  user_pull_request_count = pullrequest_count[username]\n",
        "\n",
        "  result = requests.get('https://github.com/' + username)\n",
        "  content = result.content\n",
        "  soup = BeautifulSoup(content, \"html.parser\")\n",
        "\n",
        "  # Extract the required information\n",
        "  repositories_count_element = soup.find('span', {'class': 'Counter'})\n",
        "  repositories_count = repositories_count_element.text.strip() if repositories_count_element else 'N/A'\n",
        "\n",
        "  if '[bot]' in username:\n",
        "    followers_count = 'NA'\n",
        "    following_count = 'NA'\n",
        "    contributions = 'NA'\n",
        "  else:\n",
        "    try:\n",
        "      followers_following = soup.find_all('span', {'class':\"text-bold color-fg-default\"})#.text.strip()\n",
        "      followers_count = followers_following[0].text.strip()\n",
        "      following_count = followers_following[1].text.strip()\n",
        "    except:\n",
        "      followers_count = 'NA'\n",
        "      following_count = 'NA'\n",
        "\n",
        "    contributions = soup.find('h2', {'class':\"f4 text-normal mb-2\"}).text.strip()\n",
        "    contributions= re.split(\"\\s\", contributions)[0]\n",
        "\n",
        "  ud = UserList(username,user_pull_request_count,repositories_count,followers_count,following_count,contributions)\n",
        "  userdata_list.append(ud)\n",
        "\n",
        "print(userdata_list[0])"
      ],
      "metadata": {
        "colab": {
          "base_uri": "https://localhost:8080/"
        },
        "id": "BKAWwW2bTBhK",
        "outputId": "c92242bf-4a72-4606-822a-79e97f9204e4"
      },
      "execution_count": 10,
      "outputs": [
        {
          "output_type": "stream",
          "name": "stdout",
          "text": [
            "yuyan-z / Number of requests: 1 / Repo count: 15 / Followers: 2 / Following: 3 / Contibutions: 385\n"
          ]
        }
      ]
    },
    {
      "cell_type": "markdown",
      "source": [
        "## Use of .save_to_csv() function"
      ],
      "metadata": {
        "id": "qTuZfr_FAljU"
      }
    },
    {
      "cell_type": "code",
      "source": [
        "# Save GitHubRepository data to CSV\n",
        "repo_csv_file_path = 'github_repo_data.csv'\n",
        "my_repo.save_to_csv(repo_csv_file_path)\n",
        "\n",
        "# Save PullRequest data to CSV\n",
        "pullrequest_csv_file_path = 'pullrequest_data.csv'\n",
        "for pr in pullrequest_list:\n",
        "    pr.save_to_csv(pullrequest_csv_file_path)\n",
        "\n",
        "# Save UserData to CSV\n",
        "userdata_csv_file_path = 'user_data.csv'\n",
        "for ud in userdata_list:\n",
        "    ud.save_to_csv(userdata_csv_file_path)"
      ],
      "metadata": {
        "id": "Yo-S_f3fkt7f"
      },
      "execution_count": 11,
      "outputs": []
    },
    {
      "cell_type": "markdown",
      "source": [
        "## Read data from .csv into data frames"
      ],
      "metadata": {
        "id": "NBonQz6lzEpU"
      }
    },
    {
      "cell_type": "code",
      "source": [
        "repos_df = pd.read_csv('github_repo_data.csv')\n",
        "pullreq_df = pd.read_csv('pullrequest_data.csv')\n",
        "userdata_df = pd.read_csv('user_data.csv')\n",
        "\n",
        "# repos_df.head()\n",
        "pullreq_df.head()\n",
        "# userdata_df.head()"
      ],
      "metadata": {
        "colab": {
          "base_uri": "https://localhost:8080/",
          "height": 293
        },
        "id": "KYPKcUnyzK5W",
        "outputId": "afef12f6-d784-4677-96a3-f2bac6a8e972"
      },
      "execution_count": 12,
      "outputs": [
        {
          "output_type": "execute_result",
          "data": {
            "text/plain": [
              "                                               title  number  \\\n",
              "0  [WIP] Handling non-ascii characters, related t...   10662   \n",
              "1  Add 'More' option to right click menu in the m...   10659   \n",
              "2                                 Clean up test code   10658   \n",
              "3  Replace cache: gradle with \"modern\" gradle-bui...   10657   \n",
              "4         App semantic scholar api key to properties   10656   \n",
              "\n",
              "                                                body   state  \\\n",
              "0  <!-- \\r\\nDescribe the changes you have made he...    open   \n",
              "1  Fixes [#9432](https://github.com/JabRef/jabref...    open   \n",
              "2  This enables rewrite of tests using OpenRewrit...  closed   \n",
              "3  Reasons at https://github.com/gradle/gradle-bu...    open   \n",
              "4  <!-- \\r\\nDescribe the changes you have made he...    open   \n",
              "\n",
              "       date_of_creation          closing_date        user  \n",
              "0  2023-11-21T22:12:37Z                   NaN     yuyan-z  \n",
              "1  2023-11-21T19:15:14Z                   NaN     theoo33  \n",
              "2  2023-11-21T01:01:19Z  2023-11-21T08:37:58Z      koppor  \n",
              "3  2023-11-21T00:51:05Z                   NaN      koppor  \n",
              "4  2023-11-20T20:39:47Z                   NaN  Siedlerchr  "
            ],
            "text/html": [
              "\n",
              "  <div id=\"df-cc882ad4-c979-41e9-b5c3-1a4844a2a99c\" class=\"colab-df-container\">\n",
              "    <div>\n",
              "<style scoped>\n",
              "    .dataframe tbody tr th:only-of-type {\n",
              "        vertical-align: middle;\n",
              "    }\n",
              "\n",
              "    .dataframe tbody tr th {\n",
              "        vertical-align: top;\n",
              "    }\n",
              "\n",
              "    .dataframe thead th {\n",
              "        text-align: right;\n",
              "    }\n",
              "</style>\n",
              "<table border=\"1\" class=\"dataframe\">\n",
              "  <thead>\n",
              "    <tr style=\"text-align: right;\">\n",
              "      <th></th>\n",
              "      <th>title</th>\n",
              "      <th>number</th>\n",
              "      <th>body</th>\n",
              "      <th>state</th>\n",
              "      <th>date_of_creation</th>\n",
              "      <th>closing_date</th>\n",
              "      <th>user</th>\n",
              "    </tr>\n",
              "  </thead>\n",
              "  <tbody>\n",
              "    <tr>\n",
              "      <th>0</th>\n",
              "      <td>[WIP] Handling non-ascii characters, related t...</td>\n",
              "      <td>10662</td>\n",
              "      <td>&lt;!-- \\r\\nDescribe the changes you have made he...</td>\n",
              "      <td>open</td>\n",
              "      <td>2023-11-21T22:12:37Z</td>\n",
              "      <td>NaN</td>\n",
              "      <td>yuyan-z</td>\n",
              "    </tr>\n",
              "    <tr>\n",
              "      <th>1</th>\n",
              "      <td>Add 'More' option to right click menu in the m...</td>\n",
              "      <td>10659</td>\n",
              "      <td>Fixes [#9432](https://github.com/JabRef/jabref...</td>\n",
              "      <td>open</td>\n",
              "      <td>2023-11-21T19:15:14Z</td>\n",
              "      <td>NaN</td>\n",
              "      <td>theoo33</td>\n",
              "    </tr>\n",
              "    <tr>\n",
              "      <th>2</th>\n",
              "      <td>Clean up test code</td>\n",
              "      <td>10658</td>\n",
              "      <td>This enables rewrite of tests using OpenRewrit...</td>\n",
              "      <td>closed</td>\n",
              "      <td>2023-11-21T01:01:19Z</td>\n",
              "      <td>2023-11-21T08:37:58Z</td>\n",
              "      <td>koppor</td>\n",
              "    </tr>\n",
              "    <tr>\n",
              "      <th>3</th>\n",
              "      <td>Replace cache: gradle with \"modern\" gradle-bui...</td>\n",
              "      <td>10657</td>\n",
              "      <td>Reasons at https://github.com/gradle/gradle-bu...</td>\n",
              "      <td>open</td>\n",
              "      <td>2023-11-21T00:51:05Z</td>\n",
              "      <td>NaN</td>\n",
              "      <td>koppor</td>\n",
              "    </tr>\n",
              "    <tr>\n",
              "      <th>4</th>\n",
              "      <td>App semantic scholar api key to properties</td>\n",
              "      <td>10656</td>\n",
              "      <td>&lt;!-- \\r\\nDescribe the changes you have made he...</td>\n",
              "      <td>open</td>\n",
              "      <td>2023-11-20T20:39:47Z</td>\n",
              "      <td>NaN</td>\n",
              "      <td>Siedlerchr</td>\n",
              "    </tr>\n",
              "  </tbody>\n",
              "</table>\n",
              "</div>\n",
              "    <div class=\"colab-df-buttons\">\n",
              "\n",
              "  <div class=\"colab-df-container\">\n",
              "    <button class=\"colab-df-convert\" onclick=\"convertToInteractive('df-cc882ad4-c979-41e9-b5c3-1a4844a2a99c')\"\n",
              "            title=\"Convert this dataframe to an interactive table.\"\n",
              "            style=\"display:none;\">\n",
              "\n",
              "  <svg xmlns=\"http://www.w3.org/2000/svg\" height=\"24px\" viewBox=\"0 -960 960 960\">\n",
              "    <path d=\"M120-120v-720h720v720H120Zm60-500h600v-160H180v160Zm220 220h160v-160H400v160Zm0 220h160v-160H400v160ZM180-400h160v-160H180v160Zm440 0h160v-160H620v160ZM180-180h160v-160H180v160Zm440 0h160v-160H620v160Z\"/>\n",
              "  </svg>\n",
              "    </button>\n",
              "\n",
              "  <style>\n",
              "    .colab-df-container {\n",
              "      display:flex;\n",
              "      gap: 12px;\n",
              "    }\n",
              "\n",
              "    .colab-df-convert {\n",
              "      background-color: #E8F0FE;\n",
              "      border: none;\n",
              "      border-radius: 50%;\n",
              "      cursor: pointer;\n",
              "      display: none;\n",
              "      fill: #1967D2;\n",
              "      height: 32px;\n",
              "      padding: 0 0 0 0;\n",
              "      width: 32px;\n",
              "    }\n",
              "\n",
              "    .colab-df-convert:hover {\n",
              "      background-color: #E2EBFA;\n",
              "      box-shadow: 0px 1px 2px rgba(60, 64, 67, 0.3), 0px 1px 3px 1px rgba(60, 64, 67, 0.15);\n",
              "      fill: #174EA6;\n",
              "    }\n",
              "\n",
              "    .colab-df-buttons div {\n",
              "      margin-bottom: 4px;\n",
              "    }\n",
              "\n",
              "    [theme=dark] .colab-df-convert {\n",
              "      background-color: #3B4455;\n",
              "      fill: #D2E3FC;\n",
              "    }\n",
              "\n",
              "    [theme=dark] .colab-df-convert:hover {\n",
              "      background-color: #434B5C;\n",
              "      box-shadow: 0px 1px 3px 1px rgba(0, 0, 0, 0.15);\n",
              "      filter: drop-shadow(0px 1px 2px rgba(0, 0, 0, 0.3));\n",
              "      fill: #FFFFFF;\n",
              "    }\n",
              "  </style>\n",
              "\n",
              "    <script>\n",
              "      const buttonEl =\n",
              "        document.querySelector('#df-cc882ad4-c979-41e9-b5c3-1a4844a2a99c button.colab-df-convert');\n",
              "      buttonEl.style.display =\n",
              "        google.colab.kernel.accessAllowed ? 'block' : 'none';\n",
              "\n",
              "      async function convertToInteractive(key) {\n",
              "        const element = document.querySelector('#df-cc882ad4-c979-41e9-b5c3-1a4844a2a99c');\n",
              "        const dataTable =\n",
              "          await google.colab.kernel.invokeFunction('convertToInteractive',\n",
              "                                                    [key], {});\n",
              "        if (!dataTable) return;\n",
              "\n",
              "        const docLinkHtml = 'Like what you see? Visit the ' +\n",
              "          '<a target=\"_blank\" href=https://colab.research.google.com/notebooks/data_table.ipynb>data table notebook</a>'\n",
              "          + ' to learn more about interactive tables.';\n",
              "        element.innerHTML = '';\n",
              "        dataTable['output_type'] = 'display_data';\n",
              "        await google.colab.output.renderOutput(dataTable, element);\n",
              "        const docLink = document.createElement('div');\n",
              "        docLink.innerHTML = docLinkHtml;\n",
              "        element.appendChild(docLink);\n",
              "      }\n",
              "    </script>\n",
              "  </div>\n",
              "\n",
              "\n",
              "<div id=\"df-4cd651e2-9423-4391-bd43-8dba19a765f4\">\n",
              "  <button class=\"colab-df-quickchart\" onclick=\"quickchart('df-4cd651e2-9423-4391-bd43-8dba19a765f4')\"\n",
              "            title=\"Suggest charts\"\n",
              "            style=\"display:none;\">\n",
              "\n",
              "<svg xmlns=\"http://www.w3.org/2000/svg\" height=\"24px\"viewBox=\"0 0 24 24\"\n",
              "     width=\"24px\">\n",
              "    <g>\n",
              "        <path d=\"M19 3H5c-1.1 0-2 .9-2 2v14c0 1.1.9 2 2 2h14c1.1 0 2-.9 2-2V5c0-1.1-.9-2-2-2zM9 17H7v-7h2v7zm4 0h-2V7h2v10zm4 0h-2v-4h2v4z\"/>\n",
              "    </g>\n",
              "</svg>\n",
              "  </button>\n",
              "\n",
              "<style>\n",
              "  .colab-df-quickchart {\n",
              "      --bg-color: #E8F0FE;\n",
              "      --fill-color: #1967D2;\n",
              "      --hover-bg-color: #E2EBFA;\n",
              "      --hover-fill-color: #174EA6;\n",
              "      --disabled-fill-color: #AAA;\n",
              "      --disabled-bg-color: #DDD;\n",
              "  }\n",
              "\n",
              "  [theme=dark] .colab-df-quickchart {\n",
              "      --bg-color: #3B4455;\n",
              "      --fill-color: #D2E3FC;\n",
              "      --hover-bg-color: #434B5C;\n",
              "      --hover-fill-color: #FFFFFF;\n",
              "      --disabled-bg-color: #3B4455;\n",
              "      --disabled-fill-color: #666;\n",
              "  }\n",
              "\n",
              "  .colab-df-quickchart {\n",
              "    background-color: var(--bg-color);\n",
              "    border: none;\n",
              "    border-radius: 50%;\n",
              "    cursor: pointer;\n",
              "    display: none;\n",
              "    fill: var(--fill-color);\n",
              "    height: 32px;\n",
              "    padding: 0;\n",
              "    width: 32px;\n",
              "  }\n",
              "\n",
              "  .colab-df-quickchart:hover {\n",
              "    background-color: var(--hover-bg-color);\n",
              "    box-shadow: 0 1px 2px rgba(60, 64, 67, 0.3), 0 1px 3px 1px rgba(60, 64, 67, 0.15);\n",
              "    fill: var(--button-hover-fill-color);\n",
              "  }\n",
              "\n",
              "  .colab-df-quickchart-complete:disabled,\n",
              "  .colab-df-quickchart-complete:disabled:hover {\n",
              "    background-color: var(--disabled-bg-color);\n",
              "    fill: var(--disabled-fill-color);\n",
              "    box-shadow: none;\n",
              "  }\n",
              "\n",
              "  .colab-df-spinner {\n",
              "    border: 2px solid var(--fill-color);\n",
              "    border-color: transparent;\n",
              "    border-bottom-color: var(--fill-color);\n",
              "    animation:\n",
              "      spin 1s steps(1) infinite;\n",
              "  }\n",
              "\n",
              "  @keyframes spin {\n",
              "    0% {\n",
              "      border-color: transparent;\n",
              "      border-bottom-color: var(--fill-color);\n",
              "      border-left-color: var(--fill-color);\n",
              "    }\n",
              "    20% {\n",
              "      border-color: transparent;\n",
              "      border-left-color: var(--fill-color);\n",
              "      border-top-color: var(--fill-color);\n",
              "    }\n",
              "    30% {\n",
              "      border-color: transparent;\n",
              "      border-left-color: var(--fill-color);\n",
              "      border-top-color: var(--fill-color);\n",
              "      border-right-color: var(--fill-color);\n",
              "    }\n",
              "    40% {\n",
              "      border-color: transparent;\n",
              "      border-right-color: var(--fill-color);\n",
              "      border-top-color: var(--fill-color);\n",
              "    }\n",
              "    60% {\n",
              "      border-color: transparent;\n",
              "      border-right-color: var(--fill-color);\n",
              "    }\n",
              "    80% {\n",
              "      border-color: transparent;\n",
              "      border-right-color: var(--fill-color);\n",
              "      border-bottom-color: var(--fill-color);\n",
              "    }\n",
              "    90% {\n",
              "      border-color: transparent;\n",
              "      border-bottom-color: var(--fill-color);\n",
              "    }\n",
              "  }\n",
              "</style>\n",
              "\n",
              "  <script>\n",
              "    async function quickchart(key) {\n",
              "      const quickchartButtonEl =\n",
              "        document.querySelector('#' + key + ' button');\n",
              "      quickchartButtonEl.disabled = true;  // To prevent multiple clicks.\n",
              "      quickchartButtonEl.classList.add('colab-df-spinner');\n",
              "      try {\n",
              "        const charts = await google.colab.kernel.invokeFunction(\n",
              "            'suggestCharts', [key], {});\n",
              "      } catch (error) {\n",
              "        console.error('Error during call to suggestCharts:', error);\n",
              "      }\n",
              "      quickchartButtonEl.classList.remove('colab-df-spinner');\n",
              "      quickchartButtonEl.classList.add('colab-df-quickchart-complete');\n",
              "    }\n",
              "    (() => {\n",
              "      let quickchartButtonEl =\n",
              "        document.querySelector('#df-4cd651e2-9423-4391-bd43-8dba19a765f4 button');\n",
              "      quickchartButtonEl.style.display =\n",
              "        google.colab.kernel.accessAllowed ? 'block' : 'none';\n",
              "    })();\n",
              "  </script>\n",
              "</div>\n",
              "    </div>\n",
              "  </div>\n"
            ]
          },
          "metadata": {},
          "execution_count": 12
        }
      ]
    },
    {
      "cell_type": "code",
      "source": [
        "from matplotlib import pyplot as plt\n",
        "import seaborn as sns\n",
        "pullreq_df.groupby('state').size().plot(kind='barh', color=sns.palettes.mpl_palette('Dark2'))\n",
        "plt.gca().set(xlabel='Number of commits', ylabel='Pull request state')\n",
        "plt.show()"
      ],
      "metadata": {
        "id": "YzazuSZoDghm",
        "outputId": "d0c5ae0a-18b2-4dc7-fe50-f00b4e93e0d8",
        "colab": {
          "base_uri": "https://localhost:8080/",
          "height": 449
        }
      },
      "execution_count": 16,
      "outputs": [
        {
          "output_type": "display_data",
          "data": {
            "text/plain": [
              "<Figure size 640x480 with 1 Axes>"
            ],
            "image/png": "[encoded data removed]"
          },
          "metadata": {}
        }
      ]
    },
    {
      "cell_type": "code",
      "execution_count": null,
      "metadata": {
        "id": "XO0HYFF4fVec"
      },
      "outputs": [],
      "source": [
        "#box plot that comapares closed vs open pulled requests in terms of additions\n",
        "sb.set_style(\"whitegrid\")\n",
        "fig, ax = mp.subplots(figsize=(10, 6))\n",
        "sb.boxplot(x = 'additions', y = 'commits', data = all_repos,ax=ax)"
      ]
    },
    {
      "cell_type": "code",
      "execution_count": null,
      "metadata": {
        "id": "1Cbh-kNDfVec"
      },
      "outputs": [],
      "source": [
        "#box plot that comapares closed vs open pulled requests in terms of deletions\n",
        "sb.set_style(\"whitegrid\")\n",
        "fig, ax = mp.subplots(figsize=(10, 6))\n",
        "sb.boxplot(x = 'deletions', y = 'commits', data = all_repos,ax=ax)"
      ]
    },
    {
      "cell_type": "code",
      "execution_count": null,
      "metadata": {
        "id": "9be3-l2KfVec"
      },
      "outputs": [],
      "source": [
        "#box plot that comapares closed vs open pulled requests in terms of deletions\n",
        "sb.set_style(\"whitegrid\")\n",
        "fig, ax = mp.subplots(figsize=(10, 6))\n",
        "sb.boxplot(x = 'user', y = 'changed_files', data = all_repos,ax=ax)"
      ]
    },
    {
      "cell_type": "code",
      "execution_count": null,
      "metadata": {
        "id": "w1jWqWBjfVed"
      },
      "outputs": [],
      "source": [
        "#a scatterplot that showws the relationship between additions and deletions\n",
        "all_repos.plot.scatter(x='additions', y='deletions', title= \"Scatter plot between two variables X and Y\");\n",
        "\n",
        "mp.show(block=True);"
      ]
    },
    {
      "cell_type": "code",
      "execution_count": null,
      "metadata": {
        "id": "siz3leTkfVed"
      },
      "outputs": [],
      "source": [
        "#line graph showing the total number of pull requests per day\n",
        "repos_df.plot( 'date of creation' , 'number' )"
      ]
    },
    {
      "cell_type": "code",
      "execution_count": null,
      "metadata": {
        "id": "6zoSy-IXfVed"
      },
      "outputs": [],
      "source": [
        "#bars comparing the number of users per repo\n",
        "users_df.plot(x=\"number of repositories\", y=\"number of followers\", kind=\"bar\")"
      ]
    },
    {
      "cell_type": "code",
      "execution_count": null,
      "metadata": {
        "id": "i6a1b2JDfVed"
      },
      "outputs": [],
      "source": [
        "#corelation between all the numeric data in pull requests for a repo\n",
        "print(all_repos.corr())\n",
        "\n",
        "# plotting correlation heatmap\n",
        "dataplot = sb.heatmap(all_repos.corr(), cmap=\"YlGnBu\", annot=True)\n",
        "\n",
        "# displaying heatmap\n",
        "mp.show()"
      ]
    },
    {
      "cell_type": "code",
      "execution_count": null,
      "metadata": {
        "id": "Tcdi_ZWxfVed"
      },
      "outputs": [],
      "source": [
        "#corelation between all the numeric data in pull requests for a repo\n",
        "print(users_df.corr())\n",
        "\n",
        "# plotting correlation heatmap\n",
        "dataplot = sb.heatmap(users_df.corr(), cmap=\"YlGnBu\", annot=True)\n",
        "\n",
        "# displaying heatmap\n",
        "mp.show()"
      ]
    },
    {
      "cell_type": "code",
      "execution_count": null,
      "metadata": {
        "id": "BgRC8qWZfVed"
      },
      "outputs": [],
      "source": []
    }
  ],
  "metadata": {
    "kernelspec": {
      "display_name": "Python 3 (ipykernel)",
      "language": "python",
      "name": "python3"
    },
    "language_info": {
      "codemirror_mode": {
        "name": "ipython",
        "version": 3
      },
      "file_extension": ".py",
      "mimetype": "text/x-python",
      "name": "python",
      "nbconvert_exporter": "python",
      "pygments_lexer": "ipython3",
      "version": "3.9.13"
    },
    "colab": {
      "provenance": [],
      "toc_visible": true,
      "include_colab_link": true
    }
  },
  "nbformat": 4,
  "nbformat_minor": 0
}