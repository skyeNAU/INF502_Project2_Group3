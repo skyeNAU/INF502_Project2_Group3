{
  "cells": [
    {
      "cell_type": "markdown",
      "metadata": {
        "id": "view-in-github",
        "colab_type": "text"
      },
      "source": [
        "<a href=\"https://colab.research.google.com/github/skyeNAU/INF502_Project2_Group3/blob/main/Module%202.ipynb\" target=\"_parent\"><img src=\"https://colab.research.google.com/assets/colab-badge.svg\" alt=\"Open In Colab\"/></a>"
      ]
    },
    {
      "cell_type": "markdown",
      "source": [
        "## Import modules"
      ],
      "metadata": {
        "id": "sYg6EqkQlB2R"
      }
    },
    {
      "cell_type": "code",
      "execution_count": 26,
      "metadata": {
        "id": "VZA5iDmNfVeX"
      },
      "outputs": [],
      "source": [
        "#importing all the necessary packages\n",
        "import requests\n",
        "import csv\n",
        "import pandas as pd\n",
        "import matplotlib.pyplot as mp\n",
        "import seaborn as sb\n",
        "import numpy as np\n",
        "import json\n",
        "from datetime import datetime\n",
        "import requests\n",
        "from bs4 import BeautifulSoup\n",
        "import re"
      ]
    },
    {
      "cell_type": "markdown",
      "source": [
        "## Define a class for GitHub Repository"
      ],
      "metadata": {
        "id": "Ym6CLbS5fpcC"
      }
    },
    {
      "cell_type": "code",
      "source": [
        "# Define a class to represent a GitHub Repository\n",
        "class GitHubRepository:\n",
        "    def __init__(self, repo_name, owner, description, homepage, license, forks, watchers, date_of_collection):\n",
        "        self.repo_name = repo_name\n",
        "        self.owner = owner\n",
        "        self.description = description\n",
        "        self.homepage = homepage\n",
        "        self.license = license  # License could be another class with its own attributes\n",
        "        self.forks = forks\n",
        "        self.watchers = watchers\n",
        "        self.date_of_collection = date_of_collection\n",
        "\n",
        "    def __str__(self):\n",
        "        return f\"{self.owner}/{self.repo_name}: {self.description} ({self.watchers})\"\n",
        "\n",
        "    def to_dict(self):\n",
        "        return {\n",
        "            \"repo_name\": self.repo_name,\n",
        "            \"owner\": self.owner,\n",
        "            \"description\": self.description,\n",
        "            \"homepage\": self.homepage,\n",
        "            \"license\": self.license,\n",
        "            \"forks\": self.forks,\n",
        "            \"watchers\": self.watchers,\n",
        "            \"date_of_collection\": self.date_of_collection\n",
        "        }\n",
        "\n",
        "    def save_to_csv(self, file_path):\n",
        "        with open(file_path, mode='w', newline='') as file:\n",
        "            writer = csv.DictWriter(file, fieldnames=self.to_dict().keys())\n",
        "            writer.writeheader()\n",
        "            writer.writerow(self.to_dict())\n"
      ],
      "metadata": {
        "id": "XnORtci1ooRc"
      },
      "execution_count": 27,
      "outputs": []
    },
    {
      "cell_type": "code",
      "source": [
        "url = 'https://api.github.com/repos/JabRef/jabref'\n",
        "\n",
        "#http request to the URL and collecting it reponse\n",
        "response = requests.get(url)\n",
        "\n",
        "#the reponse data is converted json\n",
        "data=response.json()\n",
        "\n",
        "#print(json.dumps(data, indent=4))\n",
        "\n",
        "repo_data = {\n",
        "    \"repo_name\": data['name'],\n",
        "    \"owner\": data['owner']['login'],\n",
        "    \"description\": data['description'],\n",
        "    \"homepage\": data['homepage'],\n",
        "    \"license\": data['license'],\n",
        "    \"forks\": data['forks'],\n",
        "    \"watchers\": data['watchers'],\n",
        "    \"date_of_collection\": datetime.now().timestamp()\n",
        "}\n",
        "\n",
        "my_repo = GitHubRepository(**repo_data)\n",
        "\n",
        "# Access attributes of the repository object\n",
        "#print(my_repo.forks)\n",
        "#print(my_repo.license)\n",
        "print(my_repo)"
      ],
      "metadata": {
        "colab": {
          "base_uri": "https://localhost:8080/"
        },
        "id": "tdrK-WIOvSqb",
        "outputId": "d13ab00f-9fd8-4e91-d085-e35a3c73f1b6"
      },
      "execution_count": 28,
      "outputs": [
        {
          "output_type": "stream",
          "name": "stdout",
          "text": [
            "JabRef/jabref: Graphical Java application for managing BibTeX and biblatex (.bib) databases (3198)\n"
          ]
        }
      ]
    },
    {
      "cell_type": "markdown",
      "source": [
        "## Define a class for PullRequests"
      ],
      "metadata": {
        "id": "QJIGh3A7fwFq"
      }
    },
    {
      "cell_type": "code",
      "source": [
        "# Define a class to represent Pull Requests from a GitHub Repository\n",
        "class PullRequest:\n",
        "    def __init__(self, title, number, body, state, date_of_creation, closing_date, user):\n",
        "        self.title = title\n",
        "        self.number = number\n",
        "        self.body = body\n",
        "        self.state = state\n",
        "        self.license = license  # License could be another class with its own attributes\n",
        "        self.date_of_creation = date_of_creation\n",
        "        self.closing_date = closing_date\n",
        "        self.user = user\n",
        "\n",
        "    def __str__(self):\n",
        "        return f\"{self.number}: {self.title})\"\n",
        "\n",
        "    def to_dict(self):\n",
        "        return {\n",
        "            \"title\": self.title,\n",
        "            \"number\": self.number,\n",
        "            \"body\": self.body,\n",
        "            \"state\": self.state,\n",
        "            \"date_of_creation\": self.date_of_creation,\n",
        "            \"closing_date\": self.closing_date,\n",
        "            \"user\": self.user\n",
        "        }\n",
        "\n",
        "    def save_to_csv(self, file_path):\n",
        "        with open(file_path, mode='w', newline='') as file:\n",
        "            writer = csv.DictWriter(file, fieldnames=self.to_dict().keys())\n",
        "            writer.writeheader()\n",
        "            for pr in pullrequest_list:\n",
        "                writer.writerow(pr.to_dict())\n"
      ],
      "metadata": {
        "id": "LG9NulvKf5nJ"
      },
      "execution_count": 29,
      "outputs": []
    },
    {
      "cell_type": "code",
      "execution_count": 30,
      "metadata": {
        "id": "qW7Btqm4hDbz",
        "colab": {
          "base_uri": "https://localhost:8080/"
        },
        "outputId": "f58b9068-b87b-4372-e909-b5ebc727c09f"
      },
      "outputs": [
        {
          "output_type": "stream",
          "name": "stdout",
          "text": [
            "10658: Clean up test code)\n"
          ]
        }
      ],
      "source": [
        "#saving jabref api in URl variable\n",
        "url='https://api.github.com/search/issues?q=is:pr+repo:jabref/jabref'\n",
        "\n",
        "#http request to the URL and collecting it reponse\n",
        "response = requests.get(url)\n",
        "\n",
        "#the reponse data is converted json\n",
        "data=response.json()\n",
        "\n",
        "#collecting title , pull request ,body , state, date of creation , closing date , user details of the repositories in respo.csv file\n",
        "pullrequest_list = []\n",
        "for i in data['items']: #collecting all responses from items key\n",
        "    pr = PullRequest(i['title'],i['number'],i['body'],i['state'],i['created_at'],i['closed_at'],i['user']['login'])\n",
        "    pullrequest_list.append(pr)\n",
        "\n",
        "print(pullrequest_list[1])"
      ]
    },
    {
      "cell_type": "markdown",
      "source": [
        "## Define a class for user data"
      ],
      "metadata": {
        "id": "USPP8QpSHgxV"
      }
    },
    {
      "cell_type": "code",
      "source": [
        "# Define a class to represent Users with PullRequests from the GitHub Repository\n",
        "class UserList:\n",
        "    def __init__(self, user, user_number_of_requests, user_repositories_count, user_follows, user_following, user_contributions):\n",
        "        self.user = user\n",
        "        self.user_number_of_requests = user_number_of_requests\n",
        "        self.user_repositories_count = user_repositories_count\n",
        "        self.user_follows = user_follows\n",
        "        self.user_following = user_following  # License could be another class with its own attributes\n",
        "        self.user_contributions = user_contributions\n",
        "\n",
        "    def __str__(self):\n",
        "        return f\"{self.user} / Number of requests: {self.user_number_of_requests} / Repo count: {self.user_repositories_count} / Followers: {self.user_follows} / Following: {self.user_following} / Contibutions: {self.user_contributions}\"\n",
        "\n",
        "    def to_dict(self):\n",
        "        return {\n",
        "            \"user\": self.user,\n",
        "            \"user_number_of_requests\": self.user_number_of_requests,\n",
        "            \"user_repositories_count\": self.user_repositories_count,\n",
        "            \"user_follows\": self.user_follows,\n",
        "            \"user_following\": self.user_following,\n",
        "            \"user_contributions\": self.user_contributions\n",
        "        }\n",
        "\n",
        "    def save_to_csv(self, file_path):\n",
        "        with open(file_path, mode='w', newline='') as file:\n",
        "            writer = csv.DictWriter(file, fieldnames=self.to_dict().keys())\n",
        "            writer.writeheader()\n",
        "            for user in userdata_list:\n",
        "                writer.writerow(user.to_dict())\n"
      ],
      "metadata": {
        "id": "lHyzipDTHhRI"
      },
      "execution_count": 31,
      "outputs": []
    },
    {
      "cell_type": "markdown",
      "source": [
        "## From list of Pull Requests, get username and number of pull requests"
      ],
      "metadata": {
        "id": "NR6Q6jymjo2_"
      }
    },
    {
      "cell_type": "code",
      "source": [
        "# Function to extract user and pull request count\n",
        "def extract_user_pull_request_count(pull_requests):\n",
        "    user_pull_request_count = {}\n",
        "\n",
        "    for pr in pull_requests:\n",
        "        user = pr.user\n",
        "        if user in user_pull_request_count:\n",
        "            user_pull_request_count[user] += 1\n",
        "        else:\n",
        "            user_pull_request_count[user] = 1\n",
        "\n",
        "    return user_pull_request_count\n",
        "\n",
        "pullrequest_count = extract_user_pull_request_count(pullrequest_list)"
      ],
      "metadata": {
        "id": "J3ez2FIekthK"
      },
      "execution_count": 32,
      "outputs": []
    },
    {
      "cell_type": "markdown",
      "source": [
        "## Scrape data from the user profile page on GitHub and populate UserList class"
      ],
      "metadata": {
        "id": "zXdutnKDkObQ"
      }
    },
    {
      "cell_type": "code",
      "source": [
        "user_list = list(pullrequest_count.keys())\n",
        "\n",
        "userdata_list = []\n",
        "for username in user_list:\n",
        "  user_pull_request_count = pullrequest_count[username]\n",
        "\n",
        "  result = requests.get('https://github.com/' + username)\n",
        "  content = result.content\n",
        "  soup = BeautifulSoup(content, \"html.parser\")\n",
        "\n",
        "  # Extract the required information\n",
        "  repositories_count_element = soup.find('span', {'class': 'Counter'})\n",
        "  repositories_count = repositories_count_element.text.strip() if repositories_count_element else 'N/A'\n",
        "\n",
        "  if '[bot]' in username:\n",
        "    followers_count = 'NA'\n",
        "    following_count = 'NA'\n",
        "    contributions = 'NA'\n",
        "  else:\n",
        "    try:\n",
        "      followers_following = soup.find_all('span', {'class':\"text-bold color-fg-default\"})#.text.strip()\n",
        "      followers_count = followers_following[0].text.strip()\n",
        "      following_count = followers_following[1].text.strip()\n",
        "    except:\n",
        "      followers_count = 'NA'\n",
        "      following_count = 'NA'\n",
        "\n",
        "    contributions = soup.find('h2', {'class':\"f4 text-normal mb-2\"}).text.strip()\n",
        "    contributions= re.split(\"\\s\", contributions)[0]\n",
        "\n",
        "  ud = UserList(username,user_pull_request_count,repositories_count,followers_count,following_count,contributions)\n",
        "  userdata_list.append(ud)\n",
        "\n",
        "print(userdata_list[0])"
      ],
      "metadata": {
        "colab": {
          "base_uri": "https://localhost:8080/"
        },
        "id": "BKAWwW2bTBhK",
        "outputId": "582b4e66-40be-4719-edc1-26f9242ce02c"
      },
      "execution_count": 33,
      "outputs": [
        {
          "output_type": "stream",
          "name": "stdout",
          "text": [
            "theoo33 / Number of requests: 1 / Repo count: 2 / Followers: NA / Following: NA / Contibutions: 23\n"
          ]
        }
      ]
    },
    {
      "cell_type": "markdown",
      "source": [
        "## Use of .save_to_csv() function"
      ],
      "metadata": {
        "id": "qTuZfr_FAljU"
      }
    },
    {
      "cell_type": "code",
      "source": [
        "# Save GitHubRepository data to CSV\n",
        "repo_csv_file_path = 'github_repo_data.csv'\n",
        "my_repo.save_to_csv(repo_csv_file_path)\n",
        "\n",
        "# Save PullRequest data to CSV\n",
        "pullrequest_csv_file_path = 'pullrequest_data.csv'\n",
        "for pr in pullrequest_list:\n",
        "    pr.save_to_csv(pullrequest_csv_file_path)\n",
        "\n",
        "# Save UserData to CSV\n",
        "userdata_csv_file_path = 'user_data.csv'\n",
        "for ud in userdata_list:\n",
        "    ud.save_to_csv(userdata_csv_file_path)"
      ],
      "metadata": {
        "id": "Yo-S_f3fkt7f"
      },
      "execution_count": 34,
      "outputs": []
    },
    {
      "cell_type": "code",
      "source": [
        "result = requests.get('https://github.com/koppor')\n",
        "content = result.content\n",
        "soup = BeautifulSoup(content, \"html.parser\")\n",
        "\n",
        "#print(soup.prettify())\n",
        "\n",
        "username = 'koppor'\n",
        "\n",
        "# Extract the required information\n",
        "repositories_count_element = soup.find('span', {'class': 'Counter'})\n",
        "repositories_count = repositories_count_element.text.strip() if repositories_count_element else 'N/A'\n",
        "\n",
        "followers_following = soup.find_all('span', {'class':\"text-bold color-fg-default\"})#.text.strip()\n",
        "followers_count = followers_following[0].text.strip()\n",
        "following_count = followers_following[1].text.strip()\n",
        "\n",
        "contributions = soup.find('h2', {'class':\"f4 text-normal mb-2\"}).text.strip()\n",
        "contributions= re.split(\"\\s\", contributions)[0]\n",
        "\n",
        "# Print the results\n",
        "print(f\"Repositories: {repositories_count}\")\n",
        "print(f\"Followers: {followers_count}\")\n",
        "print(f\"Following: {following_count}\")\n",
        "print(f\"Contributions: {contributions}\")\n"
      ],
      "metadata": {
        "id": "6FOQPC3Enxsu",
        "colab": {
          "base_uri": "https://localhost:8080/"
        },
        "outputId": "be88148f-67d9-4110-cae2-676f598de28a"
      },
      "execution_count": 35,
      "outputs": [
        {
          "output_type": "stream",
          "name": "stdout",
          "text": [
            "Repositories: 312\n",
            "Followers: 286\n",
            "Following: 500\n",
            "Contributions: 2,208\n"
          ]
        }
      ]
    },
    {
      "cell_type": "code",
      "execution_count": 36,
      "metadata": {
        "id": "Uf2kS0CDfVea",
        "colab": {
          "base_uri": "https://localhost:8080/"
        },
        "outputId": "f79ae77d-261a-46ac-e530-998a87cd3f5a"
      },
      "outputs": [
        {
          "output_type": "stream",
          "name": "stdout",
          "text": [
            "                                                title  number  \\\n",
            "0   Add 'More' option to right click menu in the m...   10659   \n",
            "1                                  Clean up test code   10658   \n",
            "2   Replace cache: gradle with \"modern\" gradle-bui...   10657   \n",
            "3          App semantic scholar api key to properties   10656   \n",
            "4       Add enivornment variable for semantic scholar   10655   \n",
            "5   Bump com.puppycrawl.tools:checkstyle from 10.1...   10654   \n",
            "6   Bump com.fasterxml.jackson.dataformat:jackson-...   10653   \n",
            "7   Bump org.openrewrite.recipe:rewrite-recipe-bom...   10652   \n",
            "8   Bump com.github.Dansoftowner:jSystemThemeDetec...   10651   \n",
            "9    Bump org.openrewrite.rewrite from 6.4.0 to 6.5.4   10650   \n",
            "10              Remove comments - don't work on forks   10649   \n",
            "11    Use Prettier Java for automatic code formatting   10646   \n",
            "12            [Bot] Update journal abbreviation lists   10645   \n",
            "13                            [Bot] Update CSL styles   10642   \n",
            "14                   Use clparse (instead of heylogs)   10641   \n",
            "15  Bump org.mockito:mockito-core from 5.6.0 to 5.7.0   10638   \n",
            "16  Bump org.fxmisc.richtext:richtextfx from 0.11....   10637   \n",
            "17  Bump com.tngtech.archunit:archunit-junit5-engi...   10636   \n",
            "18  Bump org.junit.platform:junit-platform-launche...   10635   \n",
            "19  Bump io.github.classgraph:classgraph from 4.8....   10634   \n",
            "20        Added parent field to Hayagriva YAML export   10633   \n",
            "21                         Adapt tests to new heylogs   10631   \n",
            "22                        Fix NPE in lookup identifer   10630   \n",
            "23           Add minimum requirements to CHANGELOG.md   10628   \n",
            "24                             Update to JavaFX 21.01   10627   \n",
            "25         Bump org.jsoup:jsoup from 1.16.1 to 1.16.2   10625   \n",
            "26  Bump org.junit.jupiter:junit-jupiter from 5.10...   10624   \n",
            "27  Bump org.fxmisc.flowless:flowless from 0.7.1 t...   10623   \n",
            "28  Bump com.dlsc.gemsfx:gemsfx from 1.84.0 to 1.90.0   10622   \n",
            "29  Bump com.tngtech.archunit:archunit-junit5-api ...   10621   \n",
            "\n",
            "                                                 body   state  \\\n",
            "0   Fixes [#9432](https://github.com/JabRef/jabref...    open   \n",
            "1   This enables rewrite of tests using OpenRewrit...  closed   \n",
            "2   Reasons at https://github.com/gradle/gradle-bu...    open   \n",
            "3   <!-- \\r\\nDescribe the changes you have made he...    open   \n",
            "4   Follow up to https://github.com/JabRef/jabref/...  closed   \n",
            "5   Bumps [com.puppycrawl.tools:checkstyle](https:...  closed   \n",
            "6   Bumps [com.fasterxml.jackson.dataformat:jackso...  closed   \n",
            "7   Bumps [org.openrewrite.recipe:rewrite-recipe-b...  closed   \n",
            "8   Bumps [com.github.Dansoftowner:jSystemThemeDet...  closed   \n",
            "9   Bumps org.openrewrite.rewrite from 6.4.0 to 6....  closed   \n",
            "10  I thought it would be nice to have some messag...  closed   \n",
            "11  ## Background\\r\\n\\r\\nI am so fed up that\\r\\n\\r...  closed   \n",
            "12  Automated changes by [create-pull-request](htt...  closed   \n",
            "13  Automated changes by [create-pull-request](htt...  closed   \n",
            "14  This implements https://github.com/NiclasvanEy...  closed   \n",
            "15  Bumps [org.mockito:mockito-core](https://githu...  closed   \n",
            "16  Bumps [org.fxmisc.richtext:richtextfx](https:/...  closed   \n",
            "17  Bumps [com.tngtech.archunit:archunit-junit5-en...  closed   \n",
            "18  Bumps [org.junit.platform:junit-platform-launc...  closed   \n",
            "19  Bumps [io.github.classgraph:classgraph](https:...  closed   \n",
            "20  <!-- \\r\\nDescribe the changes you have made he...  closed   \n",
            "21  Due to https://github.com/nbbrd/heylogs/issues...  closed   \n",
            "22  Fixes #10629\\r\\n\\r\\nNo changelog needed as thi...  closed   \n",
            "23  Follow up to https://github.com/JabRef/jabref/...  closed   \n",
            "24  update controlsfx\\r\\n\\r\\nFixes https://github....  closed   \n",
            "25  Bumps [org.jsoup:jsoup](https://github.com/jhy...  closed   \n",
            "26  Bumps [org.junit.jupiter:junit-jupiter](https:...  closed   \n",
            "27  Bumps [org.fxmisc.flowless:flowless](https://g...  closed   \n",
            "28  Bumps [com.dlsc.gemsfx:gemsfx](https://github....  closed   \n",
            "29  Bumps [com.tngtech.archunit:archunit-junit5-ap...  closed   \n",
            "\n",
            "        date of creation          closing date             user  \n",
            "0   2023-11-21T19:15:14Z                   NaN          theoo33  \n",
            "1   2023-11-21T01:01:19Z  2023-11-21T08:37:58Z           koppor  \n",
            "2   2023-11-21T00:51:05Z                   NaN           koppor  \n",
            "3   2023-11-20T20:39:47Z                   NaN       Siedlerchr  \n",
            "4   2023-11-20T20:21:45Z  2023-11-20T20:39:39Z           koppor  \n",
            "5   2023-11-20T14:11:26Z  2023-11-20T14:47:50Z  dependabot[bot]  \n",
            "6   2023-11-20T14:11:18Z  2023-11-20T14:35:44Z  dependabot[bot]  \n",
            "7   2023-11-20T14:11:09Z  2023-11-21T00:14:26Z  dependabot[bot]  \n",
            "8   2023-11-20T14:11:02Z  2023-11-20T19:36:57Z  dependabot[bot]  \n",
            "9   2023-11-20T14:10:52Z  2023-11-21T00:13:51Z  dependabot[bot]  \n",
            "10  2023-11-20T13:21:30Z  2023-11-20T14:57:14Z           koppor  \n",
            "11  2023-11-17T13:07:30Z  2023-11-18T11:39:34Z           koppor  \n",
            "12  2023-11-16T02:15:13Z  2023-11-16T02:45:24Z           koppor  \n",
            "13  2023-11-15T02:15:46Z  2023-11-15T02:43:06Z           koppor  \n",
            "14  2023-11-14T23:38:03Z  2023-11-15T22:19:59Z           koppor  \n",
            "15  2023-11-13T14:40:52Z  2023-11-13T15:18:32Z  dependabot[bot]  \n",
            "16  2023-11-13T14:40:20Z  2023-11-13T15:58:50Z  dependabot[bot]  \n",
            "17  2023-11-13T14:40:09Z  2023-11-13T15:05:21Z  dependabot[bot]  \n",
            "18  2023-11-13T14:40:01Z  2023-11-13T15:33:04Z  dependabot[bot]  \n",
            "19  2023-11-13T14:39:44Z  2023-11-13T15:43:29Z  dependabot[bot]  \n",
            "20  2023-11-12T21:51:13Z  2023-11-14T10:23:47Z         JawadTUE  \n",
            "21  2023-11-10T00:08:28Z  2023-11-10T00:09:37Z           koppor  \n",
            "22  2023-11-09T21:47:06Z  2023-11-10T05:36:42Z       Siedlerchr  \n",
            "23  2023-11-08T20:27:29Z  2023-11-09T19:08:43Z         ThiloteE  \n",
            "24  2023-11-07T16:12:12Z  2023-11-07T16:37:57Z       Siedlerchr  \n",
            "25  2023-11-06T14:55:39Z  2023-11-06T15:17:35Z  dependabot[bot]  \n",
            "26  2023-11-06T14:55:34Z  2023-11-06T18:41:46Z  dependabot[bot]  \n",
            "27  2023-11-06T14:55:18Z  2023-11-06T18:42:23Z  dependabot[bot]  \n",
            "28  2023-11-06T14:55:13Z  2023-11-06T18:42:41Z  dependabot[bot]  \n",
            "29  2023-11-06T14:55:07Z  2023-11-06T18:42:56Z  dependabot[bot]  \n"
          ]
        }
      ],
      "source": [
        "#saving jabref api in URl variable\n",
        "url='https://api.github.com/search/issues?q=is:pr+repo:jabref/jabref'\n",
        "\n",
        "#http request to the URL and collecting it reponse\n",
        "response = requests.get(url)\n",
        "\n",
        "#the reponse data is converted json\n",
        "data=response.json()\n",
        "\n",
        "#collecting title , pull request ,body , state, date of creation , closing date , user details of the repositories in respo.csv file\n",
        "with open('repos.csv', 'w', newline='',encoding=\"utf-8\") as file: #creating repos.csv file in write mode\n",
        "    writer = csv.writer(file)\n",
        "    writer.writerow([\"title\",\"number\",\"body\",\"state\",\"date of creation\",\"closing date\",\"user\"]) #creating column names\n",
        "    j=0\n",
        "    for i in data['items']: #collecting all responses from items key\n",
        "        title,number,body,state,created_at,closed_at,user=(i['title'],i['number'],i['body'],i['state'],i['created_at'],i['closed_at'],i['user']['login'])\n",
        "        writer.writerow([title,number,body,state,created_at,closed_at,user])\n",
        "        j=j+1\n",
        "\n",
        "#reading repos.cvs into pandas data frame\n",
        "repos_df=pd.read_csv('repos.csv')\n",
        "print(repos_df)"
      ]
    },
    {
      "cell_type": "code",
      "execution_count": 37,
      "metadata": {
        "id": "XlSc1OZ3fVea",
        "colab": {
          "base_uri": "https://localhost:8080/"
        },
        "outputId": "d8a8c9ca-00d3-420a-d5aa-cef6c1036ba6"
      },
      "outputs": [
        {
          "output_type": "stream",
          "name": "stdout",
          "text": [
            "                                                title  number  \\\n",
            "0   Add 'More' option to right click menu in the m...   10659   \n",
            "1                                  Clean up test code   10658   \n",
            "2   Replace cache: gradle with \"modern\" gradle-bui...   10657   \n",
            "3          App semantic scholar api key to properties   10656   \n",
            "4       Add enivornment variable for semantic scholar   10655   \n",
            "5   Bump com.puppycrawl.tools:checkstyle from 10.1...   10654   \n",
            "6   Bump com.fasterxml.jackson.dataformat:jackson-...   10653   \n",
            "7   Bump org.openrewrite.recipe:rewrite-recipe-bom...   10652   \n",
            "8   Bump com.github.Dansoftowner:jSystemThemeDetec...   10651   \n",
            "9    Bump org.openrewrite.rewrite from 6.4.0 to 6.5.4   10650   \n",
            "10              Remove comments - don't work on forks   10649   \n",
            "11    Use Prettier Java for automatic code formatting   10646   \n",
            "12            [Bot] Update journal abbreviation lists   10645   \n",
            "13                            [Bot] Update CSL styles   10642   \n",
            "14                   Use clparse (instead of heylogs)   10641   \n",
            "15  Bump org.mockito:mockito-core from 5.6.0 to 5.7.0   10638   \n",
            "16  Bump org.fxmisc.richtext:richtextfx from 0.11....   10637   \n",
            "17  Bump com.tngtech.archunit:archunit-junit5-engi...   10636   \n",
            "18  Bump org.junit.platform:junit-platform-launche...   10635   \n",
            "19  Bump io.github.classgraph:classgraph from 4.8....   10634   \n",
            "20        Added parent field to Hayagriva YAML export   10633   \n",
            "21                         Adapt tests to new heylogs   10631   \n",
            "22                        Fix NPE in lookup identifer   10630   \n",
            "23           Add minimum requirements to CHANGELOG.md   10628   \n",
            "24                             Update to JavaFX 21.01   10627   \n",
            "25         Bump org.jsoup:jsoup from 1.16.1 to 1.16.2   10625   \n",
            "26  Bump org.junit.jupiter:junit-jupiter from 5.10...   10624   \n",
            "27  Bump org.fxmisc.flowless:flowless from 0.7.1 t...   10623   \n",
            "28  Bump com.dlsc.gemsfx:gemsfx from 1.84.0 to 1.90.0   10622   \n",
            "29  Bump com.tngtech.archunit:archunit-junit5-api ...   10621   \n",
            "\n",
            "                                                 body   state  \\\n",
            "0   Fixes [#9432](https://github.com/JabRef/jabref...    open   \n",
            "1   This enables rewrite of tests using OpenRewrit...  closed   \n",
            "2   Reasons at https://github.com/gradle/gradle-bu...    open   \n",
            "3   <!-- \\r\\nDescribe the changes you have made he...    open   \n",
            "4   Follow up to https://github.com/JabRef/jabref/...  closed   \n",
            "5   Bumps [com.puppycrawl.tools:checkstyle](https:...  closed   \n",
            "6   Bumps [com.fasterxml.jackson.dataformat:jackso...  closed   \n",
            "7   Bumps [org.openrewrite.recipe:rewrite-recipe-b...  closed   \n",
            "8   Bumps [com.github.Dansoftowner:jSystemThemeDet...  closed   \n",
            "9   Bumps org.openrewrite.rewrite from 6.4.0 to 6....  closed   \n",
            "10  I thought it would be nice to have some messag...  closed   \n",
            "11  ## Background\\r\\n\\r\\nI am so fed up that\\r\\n\\r...  closed   \n",
            "12  Automated changes by [create-pull-request](htt...  closed   \n",
            "13  Automated changes by [create-pull-request](htt...  closed   \n",
            "14  This implements https://github.com/NiclasvanEy...  closed   \n",
            "15  Bumps [org.mockito:mockito-core](https://githu...  closed   \n",
            "16  Bumps [org.fxmisc.richtext:richtextfx](https:/...  closed   \n",
            "17  Bumps [com.tngtech.archunit:archunit-junit5-en...  closed   \n",
            "18  Bumps [org.junit.platform:junit-platform-launc...  closed   \n",
            "19  Bumps [io.github.classgraph:classgraph](https:...  closed   \n",
            "20  <!-- \\r\\nDescribe the changes you have made he...  closed   \n",
            "21  Due to https://github.com/nbbrd/heylogs/issues...  closed   \n",
            "22  Fixes #10629\\r\\n\\r\\nNo changelog needed as thi...  closed   \n",
            "23  Follow up to https://github.com/JabRef/jabref/...  closed   \n",
            "24  update controlsfx\\r\\n\\r\\nFixes https://github....  closed   \n",
            "25  Bumps [org.jsoup:jsoup](https://github.com/jhy...  closed   \n",
            "26  Bumps [org.junit.jupiter:junit-jupiter](https:...  closed   \n",
            "27  Bumps [org.fxmisc.flowless:flowless](https://g...  closed   \n",
            "28  Bumps [com.dlsc.gemsfx:gemsfx](https://github....  closed   \n",
            "29  Bumps [com.tngtech.archunit:archunit-junit5-ap...  closed   \n",
            "\n",
            "        date of creation          closing date             user  \n",
            "0   2023-11-21T19:15:14Z                   NaN          theoo33  \n",
            "1   2023-11-21T01:01:19Z  2023-11-21T08:37:58Z           koppor  \n",
            "2   2023-11-21T00:51:05Z                   NaN           koppor  \n",
            "3   2023-11-20T20:39:47Z                   NaN       Siedlerchr  \n",
            "4   2023-11-20T20:21:45Z  2023-11-20T20:39:39Z           koppor  \n",
            "5   2023-11-20T14:11:26Z  2023-11-20T14:47:50Z  dependabot[bot]  \n",
            "6   2023-11-20T14:11:18Z  2023-11-20T14:35:44Z  dependabot[bot]  \n",
            "7   2023-11-20T14:11:09Z  2023-11-21T00:14:26Z  dependabot[bot]  \n",
            "8   2023-11-20T14:11:02Z  2023-11-20T19:36:57Z  dependabot[bot]  \n",
            "9   2023-11-20T14:10:52Z  2023-11-21T00:13:51Z  dependabot[bot]  \n",
            "10  2023-11-20T13:21:30Z  2023-11-20T14:57:14Z           koppor  \n",
            "11  2023-11-17T13:07:30Z  2023-11-18T11:39:34Z           koppor  \n",
            "12  2023-11-16T02:15:13Z  2023-11-16T02:45:24Z           koppor  \n",
            "13  2023-11-15T02:15:46Z  2023-11-15T02:43:06Z           koppor  \n",
            "14  2023-11-14T23:38:03Z  2023-11-15T22:19:59Z           koppor  \n",
            "15  2023-11-13T14:40:52Z  2023-11-13T15:18:32Z  dependabot[bot]  \n",
            "16  2023-11-13T14:40:20Z  2023-11-13T15:58:50Z  dependabot[bot]  \n",
            "17  2023-11-13T14:40:09Z  2023-11-13T15:05:21Z  dependabot[bot]  \n",
            "18  2023-11-13T14:40:01Z  2023-11-13T15:33:04Z  dependabot[bot]  \n",
            "19  2023-11-13T14:39:44Z  2023-11-13T15:43:29Z  dependabot[bot]  \n",
            "20  2023-11-12T21:51:13Z  2023-11-14T10:23:47Z         JawadTUE  \n",
            "21  2023-11-10T00:08:28Z  2023-11-10T00:09:37Z           koppor  \n",
            "22  2023-11-09T21:47:06Z  2023-11-10T05:36:42Z       Siedlerchr  \n",
            "23  2023-11-08T20:27:29Z  2023-11-09T19:08:43Z         ThiloteE  \n",
            "24  2023-11-07T16:12:12Z  2023-11-07T16:37:57Z       Siedlerchr  \n",
            "25  2023-11-06T14:55:39Z  2023-11-06T15:17:35Z  dependabot[bot]  \n",
            "26  2023-11-06T14:55:34Z  2023-11-06T18:41:46Z  dependabot[bot]  \n",
            "27  2023-11-06T14:55:18Z  2023-11-06T18:42:23Z  dependabot[bot]  \n",
            "28  2023-11-06T14:55:13Z  2023-11-06T18:42:41Z  dependabot[bot]  \n",
            "29  2023-11-06T14:55:07Z  2023-11-06T18:42:56Z  dependabot[bot]  \n"
          ]
        }
      ],
      "source": [
        "#reading repos.cvs into pandas data frame\n",
        "repos_df=pd.read_csv('repos.csv')\n",
        "print(repos_df)"
      ]
    },
    {
      "cell_type": "code",
      "execution_count": 38,
      "metadata": {
        "id": "1wxDtbDCfVea",
        "colab": {
          "base_uri": "https://localhost:8080/"
        },
        "outputId": "b8f94c10-1178-443f-8c9a-14409c2c8202"
      },
      "outputs": [
        {
          "output_type": "stream",
          "name": "stdout",
          "text": [
            "[10659, 10658, 10657, 10656, 10655, 10654, 10653, 10652, 10651, 10650, 10649, 10646, 10645, 10642, 10641, 10638, 10637, 10636, 10635, 10634, 10633, 10631, 10630, 10628, 10627, 10625, 10624, 10623, 10622, 10621]\n"
          ]
        }
      ],
      "source": [
        "#collecting number columns values into list\n",
        "num_list=repos_df['number'].tolist()\n",
        "print(num_list)"
      ]
    },
    {
      "cell_type": "code",
      "execution_count": 39,
      "metadata": {
        "id": "cDtk8z1FfVeb"
      },
      "outputs": [],
      "source": [
        "#collecting owner , repo , number of commits , additions , deletions , changed files details in repos/owner-repo.csv files\n",
        "for i in num_list:\n",
        "    url='https://api.github.com/repos/JabRef/jabref/pulls/'+str(i) #api call for each user based on number of Github pulls\n",
        "    response = requests.get(url) #http request to the URL and collecting it reponse\n",
        "    data=response.json() #the reponse data is converted json\n",
        "    owner=data['user']['login']\n",
        "    repo=data['head']['repo']['name']\n",
        "    commits=data['commits']\n",
        "    additions=data['additions']\n",
        "    deletions=data['deletions']\n",
        "    changed_files=data['changed_files']\n",
        "    file_name='repos'+owner+'-'+repo+'.csv'\n",
        "    csvfile = open(file_name, 'w')\n",
        "    rowWriter = csv.writer(csvfile, delimiter=',', quoting=csv.QUOTE_NONE)\n",
        "    rowWriter.writerow ([\"number of commits\",\"additions\",\"deletions\",\"changed_files\"]) #creating columns\n",
        "    rowWriter.writerow([commits,additions,deletions,changed_files]) #writing data into csv file\n",
        "    csvfile.close()"
      ]
    },
    {
      "cell_type": "code",
      "execution_count": 40,
      "metadata": {
        "id": "iakgQu7AfVeb",
        "colab": {
          "base_uri": "https://localhost:8080/",
          "height": 143
        },
        "outputId": "92b9168d-494d-4e8d-a0ef-d5b5f001f467"
      },
      "outputs": [
        {
          "output_type": "error",
          "ename": "SyntaxError",
          "evalue": "ignored",
          "traceback": [
            "\u001b[0;36m  File \u001b[0;32m\"<ipython-input-40-18de63f9e2d5>\"\u001b[0;36m, line \u001b[0;32m3\u001b[0m\n\u001b[0;31m    saving the data into cvs filewith open('users.csv', 'w', newline='',encoding=\"utf-8\") as file:\u001b[0m\n\u001b[0m           ^\u001b[0m\n\u001b[0;31mSyntaxError\u001b[0m\u001b[0;31m:\u001b[0m invalid syntax\n"
          ]
        }
      ],
      "source": [
        "#collecting number of follower , followings , repos of a user into users.cvs file\n",
        "l=list(set(repos_df['user']))\n",
        "saving the data into cvs filewith open('users.csv', 'w', newline='',encoding=\"utf-8\") as file:\n",
        "    writer = csv.writer(file)\n",
        "    writer.writerow([\"user\",\"number of repositories\",\"number of followers\",\"number of following\"])\n",
        "    for i in l:\n",
        "        repo_url='https://api.github.com/users/'+str(i)+'/repos'\n",
        "        followers_url='https://api.github.com/users/'+str(i)+'/followers'\n",
        "        following_url='https://api.github.com/users/'+str(i)+'/following'\n",
        "        response1= requests.get(repo_url) #http request to the URL and collecting it reponse\n",
        "        response2 = requests.get(followers_url)#http request to the URL and collecting it reponse\n",
        "        response3 = requests.get(following_url)#http request to the URL and collecting it reponse\n",
        "        data1=response1.json()#the reponse data is converted json\n",
        "        data2=response2.json()#the reponse data is converted json\n",
        "        data3=response3.json()#the reponse data is converted json\n",
        "        num_repos=len(data1)\n",
        "        num_followers=len(data2)\n",
        "        num_following=len(data3)\n",
        "        writer.writerow([i,num_repos,num_followers,num_following]) #"
      ]
    },
    {
      "cell_type": "code",
      "execution_count": null,
      "metadata": {
        "id": "4C7zV9hxfVeb"
      },
      "outputs": [],
      "source": [
        "num_list=repos_df['number'].tolist()\n",
        "print(num_list)\n",
        "#collecting owner , repo number of commits addition , deletions in all repos.cvs file\n",
        "with open('all_repos.csv', 'w', newline='',encoding=\"utf-8\") as file:\n",
        "    writer = csv.writer(file)\n",
        "    writer.writerow([\"user\",\"repo_name\",\"commits\",\"additions\",\"deletions\",\"changed_files\"])\n",
        "    for i in num_list:\n",
        "        url='https://api.github.com/repos/JabRef/jabref/pulls/'+str(i)\n",
        "        response = requests.get(url)#http request to the URL and collecting it reponse\n",
        "        data=response.json()#the reponse data is converted json\n",
        "        owner=data['user']['login']\n",
        "        repo=data['head']['repo']['name']\n",
        "        commits=data['commits']\n",
        "        additions=data['additions']\n",
        "        deletions=data['deletions']\n",
        "        changed_files=data['changed_files']\n",
        "        writer.writerow([owner,repo,commits,additions,deletions,changed_files]) #saving data in cvs file"
      ]
    },
    {
      "cell_type": "code",
      "execution_count": null,
      "metadata": {
        "id": "fALxntJjfVec"
      },
      "outputs": [],
      "source": [
        "users_df=pd.read_csv('users.csv') #collecting cvs data into pandas data file\n",
        "all_repos=pd.read_csv('all_repos1.csv') #collecting cvs data into pandas data file"
      ]
    },
    {
      "cell_type": "code",
      "execution_count": null,
      "metadata": {
        "scrolled": false,
        "id": "sBuHTjO-fVec"
      },
      "outputs": [],
      "source": [
        "all_repos['state']=np.where(all_repos['user']==repos_df['user'],repos_df['state'],'') #collecting state details in all repos data frame"
      ]
    },
    {
      "cell_type": "code",
      "execution_count": null,
      "metadata": {
        "id": "AvLoKubffVec"
      },
      "outputs": [],
      "source": [
        "#box plot that comapares closed vs open pulled requests in terms of number of commits\n",
        "sb.set_style(\"whitegrid\")\n",
        "\n",
        "\n",
        "\n",
        "\n",
        "\n",
        "\n",
        "\n",
        "\n",
        "\n",
        "\n",
        "\n",
        "sb.boxplot(x = 'state', y = 'commits', data = all_repos)"
      ]
    },
    {
      "cell_type": "code",
      "execution_count": null,
      "metadata": {
        "id": "XO0HYFF4fVec"
      },
      "outputs": [],
      "source": [
        "#box plot that comapares closed vs open pulled requests in terms of additions\n",
        "sb.set_style(\"whitegrid\")\n",
        "fig, ax = mp.subplots(figsize=(10, 6))\n",
        "sb.boxplot(x = 'additions', y = 'commits', data = all_repos,ax=ax)"
      ]
    },
    {
      "cell_type": "code",
      "execution_count": null,
      "metadata": {
        "id": "1Cbh-kNDfVec"
      },
      "outputs": [],
      "source": [
        "#box plot that comapares closed vs open pulled requests in terms of deletions\n",
        "sb.set_style(\"whitegrid\")\n",
        "fig, ax = mp.subplots(figsize=(10, 6))\n",
        "sb.boxplot(x = 'deletions', y = 'commits', data = all_repos,ax=ax)"
      ]
    },
    {
      "cell_type": "code",
      "execution_count": null,
      "metadata": {
        "id": "9be3-l2KfVec"
      },
      "outputs": [],
      "source": [
        "#box plot that comapares closed vs open pulled requests in terms of deletions\n",
        "sb.set_style(\"whitegrid\")\n",
        "fig, ax = mp.subplots(figsize=(10, 6))\n",
        "sb.boxplot(x = 'user', y = 'changed_files', data = all_repos,ax=ax)"
      ]
    },
    {
      "cell_type": "code",
      "execution_count": null,
      "metadata": {
        "id": "w1jWqWBjfVed"
      },
      "outputs": [],
      "source": [
        "#a scatterplot that showws the relationship between additions and deletions\n",
        "all_repos.plot.scatter(x='additions', y='deletions', title= \"Scatter plot between two variables X and Y\");\n",
        "\n",
        "mp.show(block=True);"
      ]
    },
    {
      "cell_type": "code",
      "execution_count": null,
      "metadata": {
        "id": "siz3leTkfVed"
      },
      "outputs": [],
      "source": [
        "#line graph showing the total number of pull requests per day\n",
        "repos_df.plot( 'date of creation' , 'number' )"
      ]
    },
    {
      "cell_type": "code",
      "execution_count": null,
      "metadata": {
        "id": "6zoSy-IXfVed"
      },
      "outputs": [],
      "source": [
        "#bars comparing the number of users per repo\n",
        "users_df.plot(x=\"number of repositories\", y=\"number of followers\", kind=\"bar\")"
      ]
    },
    {
      "cell_type": "code",
      "execution_count": null,
      "metadata": {
        "id": "i6a1b2JDfVed"
      },
      "outputs": [],
      "source": [
        "#corelation between all the numeric data in pull requests for a repo\n",
        "print(all_repos.corr())\n",
        "\n",
        "# plotting correlation heatmap\n",
        "dataplot = sb.heatmap(all_repos.corr(), cmap=\"YlGnBu\", annot=True)\n",
        "\n",
        "# displaying heatmap\n",
        "mp.show()"
      ]
    },
    {
      "cell_type": "code",
      "execution_count": null,
      "metadata": {
        "id": "Tcdi_ZWxfVed"
      },
      "outputs": [],
      "source": [
        "#corelation between all the numeric data in pull requests for a repo\n",
        "print(users_df.corr())\n",
        "\n",
        "# plotting correlation heatmap\n",
        "dataplot = sb.heatmap(users_df.corr(), cmap=\"YlGnBu\", annot=True)\n",
        "\n",
        "# displaying heatmap\n",
        "mp.show()"
      ]
    },
    {
      "cell_type": "code",
      "execution_count": null,
      "metadata": {
        "id": "BgRC8qWZfVed"
      },
      "outputs": [],
      "source": []
    }
  ],
  "metadata": {
    "kernelspec": {
      "display_name": "Python 3 (ipykernel)",
      "language": "python",
      "name": "python3"
    },
    "language_info": {
      "codemirror_mode": {
        "name": "ipython",
        "version": 3
      },
      "file_extension": ".py",
      "mimetype": "text/x-python",
      "name": "python",
      "nbconvert_exporter": "python",
      "pygments_lexer": "ipython3",
      "version": "3.9.13"
    },
    "colab": {
      "provenance": [],
      "toc_visible": true,
      "include_colab_link": true
    }
  },
  "nbformat": 4,
  "nbformat_minor": 0
}